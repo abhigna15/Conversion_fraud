{
  "nbformat": 4,
  "nbformat_minor": 0,
  "metadata": {
    "colab": {
      "name": "ML.ipynb",
      "provenance": [],
      "collapsed_sections": [
        "S24IYmPn6hlM"
      ]
    },
    "kernelspec": {
      "name": "python3",
      "display_name": "Python 3"
    },
    "language_info": {
      "name": "python"
    }
  },
  "cells": [
    {
      "cell_type": "code",
      "metadata": {
        "id": "ptuahvzGCMtU"
      },
      "source": [
        "import pandas as pd\n",
        "from sklearn.model_selection import train_test_split"
      ],
      "execution_count": null,
      "outputs": []
    },
    {
      "cell_type": "code",
      "metadata": {
        "id": "QuiZy5-ze2jH"
      },
      "source": [
        "df=pd.read_csv(\"/content/drive/MyDrive/ML/Training Data.csv\")"
      ],
      "execution_count": null,
      "outputs": []
    },
    {
      "cell_type": "code",
      "metadata": {
        "colab": {
          "base_uri": "https://localhost:8080/"
        },
        "id": "_H0_Y3s-pnDQ",
        "outputId": "e92eb17d-1dcf-4a57-9930-f7b8aacf3004"
      },
      "source": [
        "df1=pd.read_csv(\"/content/drive/MyDrive/ML/click_log.csv\")"
      ],
      "execution_count": null,
      "outputs": [
        {
          "output_type": "stream",
          "text": [
            "/usr/local/lib/python3.7/dist-packages/IPython/core/interactiveshell.py:2718: DtypeWarning: Columns (22,24,25,26,29,30,31,32,33,34,46,47,48,49,50,51,52,53,54) have mixed types.Specify dtype option on import or set low_memory=False.\n",
            "  interactivity=interactivity, compiler=compiler, result=result)\n"
          ],
          "name": "stderr"
        }
      ]
    },
    {
      "cell_type": "code",
      "metadata": {
        "id": "cJVrr44Etm-S",
        "colab": {
          "base_uri": "https://localhost:8080/"
        },
        "outputId": "be510ab8-6113-40c8-e512-d6432c61e18c"
      },
      "source": [
        "df1.info()"
      ],
      "execution_count": null,
      "outputs": [
        {
          "output_type": "stream",
          "text": [
            "<class 'pandas.core.frame.DataFrame'>\n",
            "RangeIndex: 244864 entries, 0 to 244863\n",
            "Data columns (total 55 columns):\n",
            " #   Column                     Non-Null Count   Dtype  \n",
            "---  ------                     --------------   -----  \n",
            " 0   Unnamed: 0                 244864 non-null  int64  \n",
            " 1   imprId                     244864 non-null  object \n",
            " 2   clmbUserId                 244864 non-null  object \n",
            " 3   adSltDimId                 244864 non-null  int64  \n",
            " 4   auds                       181829 non-null  object \n",
            " 5   allAuds                    231529 non-null  object \n",
            " 6   itemid                     244864 non-null  int64  \n",
            " 7   algo                       244864 non-null  int64  \n",
            " 8   advClientId                244864 non-null  int64  \n",
            " 9   pubClientId                244864 non-null  int64  \n",
            " 10  itmClmbLId                 244864 non-null  int64  \n",
            " 11  tmpltId                    222565 non-null  float64\n",
            " 12  refUrl                     198414 non-null  object \n",
            " 13  clickBid                   141858 non-null  float64\n",
            " 14  clickXForwardedFor         222565 non-null  object \n",
            " 15  position                   244864 non-null  int64  \n",
            " 16  paid                       244864 non-null  int64  \n",
            " 17  siteId                     244864 non-null  int64  \n",
            " 18  callIdentifier             243724 non-null  object \n",
            " 19  crtd                       244864 non-null  float64\n",
            " 20  adslotRatio                215197 non-null  float64\n",
            " 21  pricingType                222565 non-null  float64\n",
            " 22  usrClusterId               160584 non-null  object \n",
            " 23  siteClusterIds             188144 non-null  object \n",
            " 24  ctxCatId                   226457 non-null  object \n",
            " 25  uuidSource                 236752 non-null  object \n",
            " 26  clickIp                    222565 non-null  object \n",
            " 27  clickGeoId                 222565 non-null  float64\n",
            " 28  esi                        163350 non-null  float64\n",
            " 29  adBlockerDetectionValueId  136152 non-null  object \n",
            " 30  bundleId                   100865 non-null  object \n",
            " 31  impressionServedTimeStamp  156760 non-null  object \n",
            " 32  appver                     126985 non-null  object \n",
            " 33  topic                      244864 non-null  object \n",
            " 34  ip                         244864 non-null  object \n",
            " 35  geoDimId                   244864 non-null  int64  \n",
            " 36  countryDimId               244864 non-null  int64  \n",
            " 37  geoGrpDimId                233484 non-null  float64\n",
            " 38  cityDimId                  238775 non-null  float64\n",
            " 39  cityGrpDimId               210261 non-null  float64\n",
            " 40  stateDimId                 242115 non-null  float64\n",
            " 41  stateGrpDimId              234919 non-null  float64\n",
            " 42  ispDimId                   244732 non-null  float64\n",
            " 43  osDimId                    244643 non-null  float64\n",
            " 44  osVerDimId                 244619 non-null  float64\n",
            " 45  devTypeDimId               229508 non-null  float64\n",
            " 46  vendorDimId                238984 non-null  object \n",
            " 47  modelDimId                 222249 non-null  object \n",
            " 48  connTypeDimId              184365 non-null  object \n",
            " 49  browserDimId               164599 non-null  object \n",
            " 50  refClusterId               56251 non-null   object \n",
            " 51  fraud                      20687 non-null   object \n",
            " 52  cpa                        53476 non-null   object \n",
            " 53  imprUserId                 51007 non-null   object \n",
            " 54  optout                     20318 non-null   object \n",
            "dtypes: float64(16), int64(12), object(27)\n",
            "memory usage: 102.7+ MB\n"
          ],
          "name": "stdout"
        }
      ]
    },
    {
      "cell_type": "code",
      "metadata": {
        "id": "g9jPeALxtVou"
      },
      "source": [
        "DF=pd.merge(df, df1, how='inner', left_on=['imprid_cr'], right_on=['imprId'] )"
      ],
      "execution_count": null,
      "outputs": []
    },
    {
      "cell_type": "code",
      "metadata": {
        "id": "UyHB0tSuqri9",
        "colab": {
          "base_uri": "https://localhost:8080/"
        },
        "outputId": "22abf71c-5e49-4d1d-c90f-2333c02f3264"
      },
      "source": [
        "cor = DF.corr()\n",
        "count=0\n",
        "cor_sorted = cor.sort_values(by=['conversion_fraud'], ascending=False).iloc[:,14]\n",
        "for i in cor_sorted:\n",
        "  if i >0:\n",
        "    print(i)"
      ],
      "execution_count": null,
      "outputs": [
        {
          "output_type": "stream",
          "text": [
            "0.02547418800113211\n",
            "0.006842524898423062\n",
            "0.006166806180644334\n",
            "0.047646395450598206\n",
            "0.22412223955232632\n",
            "0.03073839340673031\n",
            "0.03842801036344047\n",
            "0.016223810270620902\n",
            "0.016223810270620902\n",
            "0.022497127890420934\n",
            "0.07953718870530947\n",
            "0.013135220937679383\n",
            "0.2026067988969331\n",
            "0.02639440208207398\n",
            "0.02639440208207398\n",
            "0.019938911113739768\n",
            "1.0\n",
            "1.0\n",
            "0.03819419465877956\n",
            "0.03931679025446311\n",
            "0.08283302449024786\n",
            "0.1011235985960592\n",
            "0.1107051859679596\n",
            "0.06571513046156807\n",
            "0.19097035995462017\n",
            "0.09944492564169377\n",
            "0.035229137956570275\n",
            "0.035229137956570275\n",
            "0.054175446305697365\n",
            "0.054175446305697365\n",
            "0.14798538320361287\n",
            "0.17064660586705507\n",
            "0.2195515926040507\n"
          ],
          "name": "stdout"
        }
      ]
    },
    {
      "cell_type": "code",
      "metadata": {
        "id": "tS0CPVyNoUOp",
        "colab": {
          "base_uri": "https://localhost:8080/",
          "height": 363
        },
        "outputId": "b554daed-3622-4715-f1d3-b9a757badbba"
      },
      "source": [
        "df2=DF[['clientid_cr','imprId', 'pubclientid_cr','clickIp','clmbuserid_cr','siteId','goalid_cr','cityId_cr','browserId_cr','adslotdimid_cr','itmClmbLId','ispDimId_cr','devTypeDimId','osVerDimId_cr','conversion_fraud']]\n",
        "df2.head(3)"
      ],
      "execution_count": null,
      "outputs": [
        {
          "output_type": "execute_result",
          "data": {
            "text/html": [
              "<div>\n",
              "<style scoped>\n",
              "    .dataframe tbody tr th:only-of-type {\n",
              "        vertical-align: middle;\n",
              "    }\n",
              "\n",
              "    .dataframe tbody tr th {\n",
              "        vertical-align: top;\n",
              "    }\n",
              "\n",
              "    .dataframe thead th {\n",
              "        text-align: right;\n",
              "    }\n",
              "</style>\n",
              "<table border=\"1\" class=\"dataframe\">\n",
              "  <thead>\n",
              "    <tr style=\"text-align: right;\">\n",
              "      <th></th>\n",
              "      <th>clientid_cr</th>\n",
              "      <th>imprId</th>\n",
              "      <th>pubclientid_cr</th>\n",
              "      <th>clickIp</th>\n",
              "      <th>clmbuserid_cr</th>\n",
              "      <th>siteId</th>\n",
              "      <th>goalid_cr</th>\n",
              "      <th>cityId_cr</th>\n",
              "      <th>browserId_cr</th>\n",
              "      <th>adslotdimid_cr</th>\n",
              "      <th>itmClmbLId</th>\n",
              "      <th>ispDimId_cr</th>\n",
              "      <th>devTypeDimId</th>\n",
              "      <th>osVerDimId_cr</th>\n",
              "      <th>conversion_fraud</th>\n",
              "    </tr>\n",
              "  </thead>\n",
              "  <tbody>\n",
              "    <tr>\n",
              "      <th>0</th>\n",
              "      <td>75694</td>\n",
              "      <td>01649076-c77f-4d70-afc8-213535427147-1sjd4</td>\n",
              "      <td>2320</td>\n",
              "      <td>0</td>\n",
              "      <td>31629cd0-0b34-460f-aa61-80c3234e1225-1sjfw</td>\n",
              "      <td>34</td>\n",
              "      <td>6384</td>\n",
              "      <td>436.0</td>\n",
              "      <td>129639.0</td>\n",
              "      <td>321300</td>\n",
              "      <td>5488088</td>\n",
              "      <td>280429.0</td>\n",
              "      <td>202038.0</td>\n",
              "      <td>199452.0</td>\n",
              "      <td>True</td>\n",
              "    </tr>\n",
              "    <tr>\n",
              "      <th>1</th>\n",
              "      <td>75694</td>\n",
              "      <td>f84d83b9-b757-4f97-9813-34f8dcc57cc5-1sjfw</td>\n",
              "      <td>15240</td>\n",
              "      <td>0</td>\n",
              "      <td>4c98f114-c34c-48f4-84d6-50fc8e9b6d65-10wgg</td>\n",
              "      <td>178</td>\n",
              "      <td>6384</td>\n",
              "      <td>10314.0</td>\n",
              "      <td>129639.0</td>\n",
              "      <td>129239</td>\n",
              "      <td>5488773</td>\n",
              "      <td>136127.0</td>\n",
              "      <td>202038.0</td>\n",
              "      <td>199452.0</td>\n",
              "      <td>True</td>\n",
              "    </tr>\n",
              "    <tr>\n",
              "      <th>2</th>\n",
              "      <td>75694</td>\n",
              "      <td>f84d83b9-b757-4f97-9813-34f8dcc57cc5-1sjfw</td>\n",
              "      <td>15240</td>\n",
              "      <td>0</td>\n",
              "      <td>4c98f114-c34c-48f4-84d6-50fc8e9b6d65-10wgg</td>\n",
              "      <td>178</td>\n",
              "      <td>6384</td>\n",
              "      <td>10314.0</td>\n",
              "      <td>129639.0</td>\n",
              "      <td>129239</td>\n",
              "      <td>5488773</td>\n",
              "      <td>136127.0</td>\n",
              "      <td>202038.0</td>\n",
              "      <td>199452.0</td>\n",
              "      <td>True</td>\n",
              "    </tr>\n",
              "  </tbody>\n",
              "</table>\n",
              "</div>"
            ],
            "text/plain": [
              "   clientid_cr  ... conversion_fraud\n",
              "0        75694  ...             True\n",
              "1        75694  ...             True\n",
              "2        75694  ...             True\n",
              "\n",
              "[3 rows x 15 columns]"
            ]
          },
          "metadata": {
            "tags": []
          },
          "execution_count": 944
        }
      ]
    },
    {
      "cell_type": "code",
      "metadata": {
        "id": "QVQvJND_vK3n",
        "colab": {
          "base_uri": "https://localhost:8080/"
        },
        "outputId": "266a17f2-0f6d-44b8-d5d6-e900abad55e9"
      },
      "source": [
        "cor=df2.corr()\n",
        "cor.columns"
      ],
      "execution_count": null,
      "outputs": [
        {
          "output_type": "execute_result",
          "data": {
            "text/plain": [
              "Index(['clientid_cr', 'pubclientid_cr', 'siteId', 'goalid_cr', 'cityId_cr',\n",
              "       'browserId_cr', 'adslotdimid_cr', 'itmClmbLId', 'ispDimId_cr',\n",
              "       'devTypeDimId', 'osVerDimId_cr', 'conversion_fraud'],\n",
              "      dtype='object')"
            ]
          },
          "metadata": {
            "tags": []
          },
          "execution_count": 945
        }
      ]
    },
    {
      "cell_type": "code",
      "metadata": {
        "colab": {
          "base_uri": "https://localhost:8080/"
        },
        "id": "tHJkBsUb_tbH",
        "outputId": "fcfd735b-e43a-4c11-d5ea-127547d3bb55"
      },
      "source": [
        "type(df2)"
      ],
      "execution_count": null,
      "outputs": [
        {
          "output_type": "execute_result",
          "data": {
            "text/plain": [
              "pandas.core.frame.DataFrame"
            ]
          },
          "metadata": {
            "tags": []
          },
          "execution_count": 946
        }
      ]
    },
    {
      "cell_type": "code",
      "metadata": {
        "id": "rMziF6sjBf6L",
        "colab": {
          "base_uri": "https://localhost:8080/",
          "height": 1000
        },
        "outputId": "715ed11b-cb5b-4ec8-d938-701e802ebf0a"
      },
      "source": [
        "df2=df2.dropna()\n",
        "df2"
      ],
      "execution_count": null,
      "outputs": [
        {
          "output_type": "execute_result",
          "data": {
            "text/html": [
              "<div>\n",
              "<style scoped>\n",
              "    .dataframe tbody tr th:only-of-type {\n",
              "        vertical-align: middle;\n",
              "    }\n",
              "\n",
              "    .dataframe tbody tr th {\n",
              "        vertical-align: top;\n",
              "    }\n",
              "\n",
              "    .dataframe thead th {\n",
              "        text-align: right;\n",
              "    }\n",
              "</style>\n",
              "<table border=\"1\" class=\"dataframe\">\n",
              "  <thead>\n",
              "    <tr style=\"text-align: right;\">\n",
              "      <th></th>\n",
              "      <th>clientid_cr</th>\n",
              "      <th>imprId</th>\n",
              "      <th>pubclientid_cr</th>\n",
              "      <th>clickIp</th>\n",
              "      <th>clmbuserid_cr</th>\n",
              "      <th>siteId</th>\n",
              "      <th>goalid_cr</th>\n",
              "      <th>cityId_cr</th>\n",
              "      <th>browserId_cr</th>\n",
              "      <th>adslotdimid_cr</th>\n",
              "      <th>itmClmbLId</th>\n",
              "      <th>ispDimId_cr</th>\n",
              "      <th>devTypeDimId</th>\n",
              "      <th>osVerDimId_cr</th>\n",
              "      <th>conversion_fraud</th>\n",
              "    </tr>\n",
              "  </thead>\n",
              "  <tbody>\n",
              "    <tr>\n",
              "      <th>0</th>\n",
              "      <td>75694</td>\n",
              "      <td>01649076-c77f-4d70-afc8-213535427147-1sjd4</td>\n",
              "      <td>2320</td>\n",
              "      <td>0</td>\n",
              "      <td>31629cd0-0b34-460f-aa61-80c3234e1225-1sjfw</td>\n",
              "      <td>34</td>\n",
              "      <td>6384</td>\n",
              "      <td>436.0</td>\n",
              "      <td>129639.0</td>\n",
              "      <td>321300</td>\n",
              "      <td>5488088</td>\n",
              "      <td>280429.0</td>\n",
              "      <td>202038.0</td>\n",
              "      <td>199452.0</td>\n",
              "      <td>True</td>\n",
              "    </tr>\n",
              "    <tr>\n",
              "      <th>1</th>\n",
              "      <td>75694</td>\n",
              "      <td>f84d83b9-b757-4f97-9813-34f8dcc57cc5-1sjfw</td>\n",
              "      <td>15240</td>\n",
              "      <td>0</td>\n",
              "      <td>4c98f114-c34c-48f4-84d6-50fc8e9b6d65-10wgg</td>\n",
              "      <td>178</td>\n",
              "      <td>6384</td>\n",
              "      <td>10314.0</td>\n",
              "      <td>129639.0</td>\n",
              "      <td>129239</td>\n",
              "      <td>5488773</td>\n",
              "      <td>136127.0</td>\n",
              "      <td>202038.0</td>\n",
              "      <td>199452.0</td>\n",
              "      <td>True</td>\n",
              "    </tr>\n",
              "    <tr>\n",
              "      <th>2</th>\n",
              "      <td>75694</td>\n",
              "      <td>f84d83b9-b757-4f97-9813-34f8dcc57cc5-1sjfw</td>\n",
              "      <td>15240</td>\n",
              "      <td>0</td>\n",
              "      <td>4c98f114-c34c-48f4-84d6-50fc8e9b6d65-10wgg</td>\n",
              "      <td>178</td>\n",
              "      <td>6384</td>\n",
              "      <td>10314.0</td>\n",
              "      <td>129639.0</td>\n",
              "      <td>129239</td>\n",
              "      <td>5488773</td>\n",
              "      <td>136127.0</td>\n",
              "      <td>202038.0</td>\n",
              "      <td>199452.0</td>\n",
              "      <td>True</td>\n",
              "    </tr>\n",
              "    <tr>\n",
              "      <th>3</th>\n",
              "      <td>75694</td>\n",
              "      <td>f84d83b9-b757-4f97-9813-34f8dcc57cc5-1sjfw</td>\n",
              "      <td>15240</td>\n",
              "      <td>0</td>\n",
              "      <td>4c98f114-c34c-48f4-84d6-50fc8e9b6d65-10wgg</td>\n",
              "      <td>178</td>\n",
              "      <td>6384</td>\n",
              "      <td>10314.0</td>\n",
              "      <td>129639.0</td>\n",
              "      <td>129239</td>\n",
              "      <td>5488773</td>\n",
              "      <td>136127.0</td>\n",
              "      <td>202038.0</td>\n",
              "      <td>199452.0</td>\n",
              "      <td>True</td>\n",
              "    </tr>\n",
              "    <tr>\n",
              "      <th>4</th>\n",
              "      <td>75694</td>\n",
              "      <td>f84d83b9-b757-4f97-9813-34f8dcc57cc5-1sjfw</td>\n",
              "      <td>15240</td>\n",
              "      <td>0</td>\n",
              "      <td>4c98f114-c34c-48f4-84d6-50fc8e9b6d65-10wgg</td>\n",
              "      <td>178</td>\n",
              "      <td>6384</td>\n",
              "      <td>10314.0</td>\n",
              "      <td>129639.0</td>\n",
              "      <td>129239</td>\n",
              "      <td>5488773</td>\n",
              "      <td>136127.0</td>\n",
              "      <td>202038.0</td>\n",
              "      <td>199452.0</td>\n",
              "      <td>True</td>\n",
              "    </tr>\n",
              "    <tr>\n",
              "      <th>...</th>\n",
              "      <td>...</td>\n",
              "      <td>...</td>\n",
              "      <td>...</td>\n",
              "      <td>...</td>\n",
              "      <td>...</td>\n",
              "      <td>...</td>\n",
              "      <td>...</td>\n",
              "      <td>...</td>\n",
              "      <td>...</td>\n",
              "      <td>...</td>\n",
              "      <td>...</td>\n",
              "      <td>...</td>\n",
              "      <td>...</td>\n",
              "      <td>...</td>\n",
              "      <td>...</td>\n",
              "    </tr>\n",
              "    <tr>\n",
              "      <th>891</th>\n",
              "      <td>75694</td>\n",
              "      <td>a92e9765-d4c9-4d4c-a5fc-7cf64c97dd2c-1siwg</td>\n",
              "      <td>15240</td>\n",
              "      <td>0</td>\n",
              "      <td>a71ad310-9786-492f-a46f-7c97ba9717d4-10w2k</td>\n",
              "      <td>178</td>\n",
              "      <td>6384</td>\n",
              "      <td>0.0</td>\n",
              "      <td>129639.0</td>\n",
              "      <td>129239</td>\n",
              "      <td>5488773</td>\n",
              "      <td>280429.0</td>\n",
              "      <td>202038.0</td>\n",
              "      <td>199452.0</td>\n",
              "      <td>False</td>\n",
              "    </tr>\n",
              "    <tr>\n",
              "      <th>892</th>\n",
              "      <td>70491</td>\n",
              "      <td>a955a5eb-1f0f-4654-8381-9f709bb98a7a-10ni8</td>\n",
              "      <td>76969</td>\n",
              "      <td>144</td>\n",
              "      <td>39511cf3-0358-4ae9-9fec-fe3a74e98a13</td>\n",
              "      <td>2923</td>\n",
              "      <td>4902</td>\n",
              "      <td>10257.0</td>\n",
              "      <td>129433.0</td>\n",
              "      <td>334758</td>\n",
              "      <td>5584022</td>\n",
              "      <td>280429.0</td>\n",
              "      <td>264496.0</td>\n",
              "      <td>359919.0</td>\n",
              "      <td>False</td>\n",
              "    </tr>\n",
              "    <tr>\n",
              "      <th>893</th>\n",
              "      <td>85572</td>\n",
              "      <td>a97061e8-4863-440a-956c-14c85984c29e-10nw4</td>\n",
              "      <td>15336</td>\n",
              "      <td>2401:4900:329a:1426:4442:f5d7:ed4b:3edd</td>\n",
              "      <td>e5d4037f-ec67-4d7b-8d83-9012ee7d64b9-1sjac</td>\n",
              "      <td>379</td>\n",
              "      <td>10346</td>\n",
              "      <td>0.0</td>\n",
              "      <td>129639.0</td>\n",
              "      <td>348089</td>\n",
              "      <td>5599296</td>\n",
              "      <td>136127.0</td>\n",
              "      <td>196047.0</td>\n",
              "      <td>199522.0</td>\n",
              "      <td>False</td>\n",
              "    </tr>\n",
              "    <tr>\n",
              "      <th>894</th>\n",
              "      <td>75694</td>\n",
              "      <td>a974732d-bfa0-4018-b216-b2d1c97f3337-1sj7k</td>\n",
              "      <td>85030</td>\n",
              "      <td>0</td>\n",
              "      <td>c7491247-f203-48df-b08d-d25d0d873e20-1sjwk</td>\n",
              "      <td>3290</td>\n",
              "      <td>6384</td>\n",
              "      <td>34725.0</td>\n",
              "      <td>129639.0</td>\n",
              "      <td>356952</td>\n",
              "      <td>5488773</td>\n",
              "      <td>0.0</td>\n",
              "      <td>202038.0</td>\n",
              "      <td>199414.0</td>\n",
              "      <td>False</td>\n",
              "    </tr>\n",
              "    <tr>\n",
              "      <th>895</th>\n",
              "      <td>75694</td>\n",
              "      <td>a9794d23-4f67-4446-8c34-6fb608435f40-1siz8</td>\n",
              "      <td>85030</td>\n",
              "      <td>0</td>\n",
              "      <td>20dcb941-42eb-4f0c-8f96-7afe12146264-h0k8</td>\n",
              "      <td>3290</td>\n",
              "      <td>6384</td>\n",
              "      <td>439.0</td>\n",
              "      <td>129639.0</td>\n",
              "      <td>356952</td>\n",
              "      <td>5488088</td>\n",
              "      <td>136127.0</td>\n",
              "      <td>202038.0</td>\n",
              "      <td>199452.0</td>\n",
              "      <td>False</td>\n",
              "    </tr>\n",
              "  </tbody>\n",
              "</table>\n",
              "<p>778 rows × 15 columns</p>\n",
              "</div>"
            ],
            "text/plain": [
              "     clientid_cr  ... conversion_fraud\n",
              "0          75694  ...             True\n",
              "1          75694  ...             True\n",
              "2          75694  ...             True\n",
              "3          75694  ...             True\n",
              "4          75694  ...             True\n",
              "..           ...  ...              ...\n",
              "891        75694  ...            False\n",
              "892        70491  ...            False\n",
              "893        85572  ...            False\n",
              "894        75694  ...            False\n",
              "895        75694  ...            False\n",
              "\n",
              "[778 rows x 15 columns]"
            ]
          },
          "metadata": {
            "tags": []
          },
          "execution_count": 947
        }
      ]
    },
    {
      "cell_type": "markdown",
      "metadata": {
        "id": "VMme7cjob5j3"
      },
      "source": [
        "\n",
        "\n",
        "```\n",
        "According to correlation matrix these columns are chosen \n",
        "```\n",
        "\n"
      ]
    },
    {
      "cell_type": "code",
      "metadata": {
        "id": "5-ViqX2yBFZF"
      },
      "source": [
        "df2 = df2.sample(frac=1).reset_index(drop=True)"
      ],
      "execution_count": null,
      "outputs": []
    },
    {
      "cell_type": "code",
      "metadata": {
        "id": "e9U8QAqBkhAd"
      },
      "source": [
        "df2['clickIp'] = df2['clickIp'].astype('|S')"
      ],
      "execution_count": null,
      "outputs": []
    },
    {
      "cell_type": "code",
      "metadata": {
        "id": "uNbwRkxTAdao"
      },
      "source": [
        "from sklearn.preprocessing import LabelEncoder\n",
        "labelencoder_X = LabelEncoder()\n",
        "df2['clickIp'] = labelencoder_X.fit_transform(df2['clickIp'])"
      ],
      "execution_count": null,
      "outputs": []
    },
    {
      "cell_type": "code",
      "metadata": {
        "id": "R4Zp2QMG_Qoo"
      },
      "source": [
        "from sklearn.preprocessing import LabelEncoder\n",
        "labelencoder_X = LabelEncoder()\n",
        "df2['clmbuserid_cr'] = labelencoder_X.fit_transform(df2['clmbuserid_cr'])"
      ],
      "execution_count": null,
      "outputs": []
    },
    {
      "cell_type": "code",
      "metadata": {
        "id": "iwMt_AgN_c40"
      },
      "source": [
        "from sklearn.preprocessing import LabelEncoder\n",
        "labelencoder_X = LabelEncoder()\n",
        "df2['imprId'] = labelencoder_X.fit_transform(df2['imprId'])"
      ],
      "execution_count": null,
      "outputs": []
    },
    {
      "cell_type": "code",
      "metadata": {
        "id": "MF9lA3gi_l_k"
      },
      "source": [
        "labelencoder_X = LabelEncoder()\n",
        "df2['conversion_fraud'] = labelencoder_X.fit_transform(df2['conversion_fraud'])"
      ],
      "execution_count": null,
      "outputs": []
    },
    {
      "cell_type": "code",
      "metadata": {
        "id": "dCeO9kXpj6Bb"
      },
      "source": [
        ""
      ],
      "execution_count": null,
      "outputs": []
    },
    {
      "cell_type": "code",
      "metadata": {
        "id": "1yuwzIY1GMa0"
      },
      "source": [
        "X=df2[['clientid_cr','imprId', 'pubclientid_cr','clickIp','clmbuserid_cr','siteId','goalid_cr','cityId_cr','browserId_cr','adslotdimid_cr','itmClmbLId','ispDimId_cr','devTypeDimId','osVerDimId_cr']]\n",
        "y=df2['conversion_fraud']"
      ],
      "execution_count": null,
      "outputs": []
    },
    {
      "cell_type": "code",
      "metadata": {
        "id": "BM0xDr4tPmfi"
      },
      "source": [
        "X_train,X_test,y_train,y_test = train_test_split(X, y, test_size=0.2,stratify=y,random_state=42)"
      ],
      "execution_count": null,
      "outputs": []
    },
    {
      "cell_type": "code",
      "metadata": {
        "id": "hoQtSW0WL6o2",
        "colab": {
          "base_uri": "https://localhost:8080/",
          "height": 437
        },
        "outputId": "c647d284-7958-4c3a-9eeb-695f06b0fbe4"
      },
      "source": [
        "df2"
      ],
      "execution_count": null,
      "outputs": [
        {
          "output_type": "execute_result",
          "data": {
            "text/html": [
              "<div>\n",
              "<style scoped>\n",
              "    .dataframe tbody tr th:only-of-type {\n",
              "        vertical-align: middle;\n",
              "    }\n",
              "\n",
              "    .dataframe tbody tr th {\n",
              "        vertical-align: top;\n",
              "    }\n",
              "\n",
              "    .dataframe thead th {\n",
              "        text-align: right;\n",
              "    }\n",
              "</style>\n",
              "<table border=\"1\" class=\"dataframe\">\n",
              "  <thead>\n",
              "    <tr style=\"text-align: right;\">\n",
              "      <th></th>\n",
              "      <th>clientid_cr</th>\n",
              "      <th>imprId</th>\n",
              "      <th>pubclientid_cr</th>\n",
              "      <th>clickIp</th>\n",
              "      <th>clmbuserid_cr</th>\n",
              "      <th>siteId</th>\n",
              "      <th>goalid_cr</th>\n",
              "      <th>cityId_cr</th>\n",
              "      <th>browserId_cr</th>\n",
              "      <th>adslotdimid_cr</th>\n",
              "      <th>itmClmbLId</th>\n",
              "      <th>ispDimId_cr</th>\n",
              "      <th>devTypeDimId</th>\n",
              "      <th>osVerDimId_cr</th>\n",
              "      <th>conversion_fraud</th>\n",
              "    </tr>\n",
              "  </thead>\n",
              "  <tbody>\n",
              "    <tr>\n",
              "      <th>0</th>\n",
              "      <td>75694</td>\n",
              "      <td>580</td>\n",
              "      <td>2658</td>\n",
              "      <td>0</td>\n",
              "      <td>489</td>\n",
              "      <td>3</td>\n",
              "      <td>6384</td>\n",
              "      <td>439.0</td>\n",
              "      <td>129639.0</td>\n",
              "      <td>239188</td>\n",
              "      <td>5488773</td>\n",
              "      <td>280429.0</td>\n",
              "      <td>202038.0</td>\n",
              "      <td>199452.0</td>\n",
              "      <td>0</td>\n",
              "    </tr>\n",
              "    <tr>\n",
              "      <th>1</th>\n",
              "      <td>75694</td>\n",
              "      <td>102</td>\n",
              "      <td>82030</td>\n",
              "      <td>0</td>\n",
              "      <td>377</td>\n",
              "      <td>3130</td>\n",
              "      <td>6384</td>\n",
              "      <td>10231.0</td>\n",
              "      <td>129467.0</td>\n",
              "      <td>348323</td>\n",
              "      <td>5488088</td>\n",
              "      <td>133765.0</td>\n",
              "      <td>204038.0</td>\n",
              "      <td>199414.0</td>\n",
              "      <td>0</td>\n",
              "    </tr>\n",
              "    <tr>\n",
              "      <th>2</th>\n",
              "      <td>75694</td>\n",
              "      <td>314</td>\n",
              "      <td>15240</td>\n",
              "      <td>0</td>\n",
              "      <td>492</td>\n",
              "      <td>178</td>\n",
              "      <td>6384</td>\n",
              "      <td>439.0</td>\n",
              "      <td>129639.0</td>\n",
              "      <td>129239</td>\n",
              "      <td>5488773</td>\n",
              "      <td>280429.0</td>\n",
              "      <td>202038.0</td>\n",
              "      <td>199414.0</td>\n",
              "      <td>0</td>\n",
              "    </tr>\n",
              "    <tr>\n",
              "      <th>3</th>\n",
              "      <td>75694</td>\n",
              "      <td>686</td>\n",
              "      <td>2308</td>\n",
              "      <td>0</td>\n",
              "      <td>287</td>\n",
              "      <td>4</td>\n",
              "      <td>6384</td>\n",
              "      <td>0.0</td>\n",
              "      <td>129639.0</td>\n",
              "      <td>355900</td>\n",
              "      <td>5488773</td>\n",
              "      <td>150208.0</td>\n",
              "      <td>202038.0</td>\n",
              "      <td>199414.0</td>\n",
              "      <td>1</td>\n",
              "    </tr>\n",
              "    <tr>\n",
              "      <th>4</th>\n",
              "      <td>75694</td>\n",
              "      <td>687</td>\n",
              "      <td>15240</td>\n",
              "      <td>0</td>\n",
              "      <td>216</td>\n",
              "      <td>178</td>\n",
              "      <td>6384</td>\n",
              "      <td>10314.0</td>\n",
              "      <td>129639.0</td>\n",
              "      <td>129239</td>\n",
              "      <td>5488773</td>\n",
              "      <td>136127.0</td>\n",
              "      <td>202038.0</td>\n",
              "      <td>199452.0</td>\n",
              "      <td>1</td>\n",
              "    </tr>\n",
              "    <tr>\n",
              "      <th>...</th>\n",
              "      <td>...</td>\n",
              "      <td>...</td>\n",
              "      <td>...</td>\n",
              "      <td>...</td>\n",
              "      <td>...</td>\n",
              "      <td>...</td>\n",
              "      <td>...</td>\n",
              "      <td>...</td>\n",
              "      <td>...</td>\n",
              "      <td>...</td>\n",
              "      <td>...</td>\n",
              "      <td>...</td>\n",
              "      <td>...</td>\n",
              "      <td>...</td>\n",
              "      <td>...</td>\n",
              "    </tr>\n",
              "    <tr>\n",
              "      <th>773</th>\n",
              "      <td>75694</td>\n",
              "      <td>261</td>\n",
              "      <td>2320</td>\n",
              "      <td>0</td>\n",
              "      <td>423</td>\n",
              "      <td>34</td>\n",
              "      <td>6384</td>\n",
              "      <td>435.0</td>\n",
              "      <td>129639.0</td>\n",
              "      <td>321554</td>\n",
              "      <td>5488088</td>\n",
              "      <td>136127.0</td>\n",
              "      <td>202038.0</td>\n",
              "      <td>199414.0</td>\n",
              "      <td>1</td>\n",
              "    </tr>\n",
              "    <tr>\n",
              "      <th>774</th>\n",
              "      <td>7750</td>\n",
              "      <td>319</td>\n",
              "      <td>15240</td>\n",
              "      <td>24</td>\n",
              "      <td>275</td>\n",
              "      <td>283</td>\n",
              "      <td>1589</td>\n",
              "      <td>436.0</td>\n",
              "      <td>129433.0</td>\n",
              "      <td>236059</td>\n",
              "      <td>5609973</td>\n",
              "      <td>280429.0</td>\n",
              "      <td>196041.0</td>\n",
              "      <td>360833.0</td>\n",
              "      <td>0</td>\n",
              "    </tr>\n",
              "    <tr>\n",
              "      <th>775</th>\n",
              "      <td>85572</td>\n",
              "      <td>61</td>\n",
              "      <td>16505</td>\n",
              "      <td>80</td>\n",
              "      <td>124</td>\n",
              "      <td>494</td>\n",
              "      <td>10346</td>\n",
              "      <td>439.0</td>\n",
              "      <td>129639.0</td>\n",
              "      <td>346465</td>\n",
              "      <td>5599296</td>\n",
              "      <td>266737.0</td>\n",
              "      <td>196047.0</td>\n",
              "      <td>199522.0</td>\n",
              "      <td>0</td>\n",
              "    </tr>\n",
              "    <tr>\n",
              "      <th>776</th>\n",
              "      <td>75694</td>\n",
              "      <td>658</td>\n",
              "      <td>2320</td>\n",
              "      <td>0</td>\n",
              "      <td>25</td>\n",
              "      <td>34</td>\n",
              "      <td>6384</td>\n",
              "      <td>10240.0</td>\n",
              "      <td>129639.0</td>\n",
              "      <td>321300</td>\n",
              "      <td>5488088</td>\n",
              "      <td>136127.0</td>\n",
              "      <td>202038.0</td>\n",
              "      <td>199452.0</td>\n",
              "      <td>1</td>\n",
              "    </tr>\n",
              "    <tr>\n",
              "      <th>777</th>\n",
              "      <td>75694</td>\n",
              "      <td>625</td>\n",
              "      <td>2658</td>\n",
              "      <td>0</td>\n",
              "      <td>262</td>\n",
              "      <td>3</td>\n",
              "      <td>6384</td>\n",
              "      <td>10255.0</td>\n",
              "      <td>129639.0</td>\n",
              "      <td>239188</td>\n",
              "      <td>5488773</td>\n",
              "      <td>136127.0</td>\n",
              "      <td>202038.0</td>\n",
              "      <td>199452.0</td>\n",
              "      <td>0</td>\n",
              "    </tr>\n",
              "  </tbody>\n",
              "</table>\n",
              "<p>778 rows × 15 columns</p>\n",
              "</div>"
            ],
            "text/plain": [
              "     clientid_cr  imprId  ...  osVerDimId_cr  conversion_fraud\n",
              "0          75694     580  ...       199452.0                 0\n",
              "1          75694     102  ...       199414.0                 0\n",
              "2          75694     314  ...       199414.0                 0\n",
              "3          75694     686  ...       199414.0                 1\n",
              "4          75694     687  ...       199452.0                 1\n",
              "..           ...     ...  ...            ...               ...\n",
              "773        75694     261  ...       199414.0                 1\n",
              "774         7750     319  ...       360833.0                 0\n",
              "775        85572      61  ...       199522.0                 0\n",
              "776        75694     658  ...       199452.0                 1\n",
              "777        75694     625  ...       199452.0                 0\n",
              "\n",
              "[778 rows x 15 columns]"
            ]
          },
          "metadata": {
            "tags": []
          },
          "execution_count": 956
        }
      ]
    },
    {
      "cell_type": "code",
      "metadata": {
        "id": "MJiR___oVmGq"
      },
      "source": [
        "a_train,a_test,b_train,b_test = train_test_split(X, y, test_size=0.2,stratify=y,random_state=42)"
      ],
      "execution_count": null,
      "outputs": []
    },
    {
      "cell_type": "code",
      "metadata": {
        "id": "4nw2TdR2VVvH"
      },
      "source": [
        "from sklearn.preprocessing import StandardScaler\n",
        "scaler = StandardScaler()\n",
        "a_train=scaler.fit_transform(a_train)\n",
        "a_test = scaler.transform(a_test)"
      ],
      "execution_count": null,
      "outputs": []
    },
    {
      "cell_type": "code",
      "metadata": {
        "id": "erBwq3YAGMN7"
      },
      "source": [
        "from sklearn.preprocessing import MinMaxScaler\n",
        "scaler= MinMaxScaler(feature_range=(0, 100))\n",
        "X_train = scaler.fit_transform(X_train)\n",
        "X_test = scaler.transform(X_test)"
      ],
      "execution_count": null,
      "outputs": []
    },
    {
      "cell_type": "markdown",
      "metadata": {
        "id": "3ABYfjn5cOEW"
      },
      "source": [
        "#Using Logistic Regression"
      ]
    },
    {
      "cell_type": "code",
      "metadata": {
        "id": "2Yj2LVTGQvHb"
      },
      "source": [
        "from sklearn.linear_model import LogisticRegression\n",
        "lr =  LogisticRegression(C=1e5,random_state=21,max_iter=250)"
      ],
      "execution_count": null,
      "outputs": []
    },
    {
      "cell_type": "code",
      "metadata": {
        "colab": {
          "base_uri": "https://localhost:8080/"
        },
        "id": "yv3al7ndQ2i1",
        "outputId": "3efe3c58-0bbc-4987-ef1c-4e6e40353eca"
      },
      "source": [
        "lr.fit(X_train,y_train)"
      ],
      "execution_count": null,
      "outputs": [
        {
          "output_type": "execute_result",
          "data": {
            "text/plain": [
              "LogisticRegression(C=100000.0, class_weight=None, dual=False,\n",
              "                   fit_intercept=True, intercept_scaling=1, l1_ratio=None,\n",
              "                   max_iter=250, multi_class='auto', n_jobs=None, penalty='l2',\n",
              "                   random_state=21, solver='lbfgs', tol=0.0001, verbose=0,\n",
              "                   warm_start=False)"
            ]
          },
          "metadata": {
            "tags": []
          },
          "execution_count": 961
        }
      ]
    },
    {
      "cell_type": "code",
      "metadata": {
        "colab": {
          "base_uri": "https://localhost:8080/"
        },
        "id": "dJRPkMKvQ43A",
        "outputId": "cbed0710-d61d-46e7-87af-871f17904b4f"
      },
      "source": [
        "lr.score(X_train,y_train)"
      ],
      "execution_count": null,
      "outputs": [
        {
          "output_type": "execute_result",
          "data": {
            "text/plain": [
              "0.8713826366559485"
            ]
          },
          "metadata": {
            "tags": []
          },
          "execution_count": 962
        }
      ]
    },
    {
      "cell_type": "markdown",
      "metadata": {
        "id": "S24IYmPn6hlM"
      },
      "source": [
        "# Prediction of Test data"
      ]
    },
    {
      "cell_type": "code",
      "metadata": {
        "colab": {
          "base_uri": "https://localhost:8080/"
        },
        "id": "VvUbsrEUPcIb",
        "outputId": "0153ea80-5093-45ed-b754-bc8301b0abd2"
      },
      "source": [
        "pred_data = [[75694,395,\t15240,\t0,\t62,\t178,\t6384,\t10254.0,\t129639.0,\t337645,\t5488773,\t187580.0,\t202038.0,\t199452.0]]\n",
        "lr.predict(scaler.transform(pred_data))"
      ],
      "execution_count": null,
      "outputs": [
        {
          "output_type": "execute_result",
          "data": {
            "text/plain": [
              "array([0])"
            ]
          },
          "metadata": {
            "tags": []
          },
          "execution_count": 963
        }
      ]
    },
    {
      "cell_type": "code",
      "metadata": {
        "id": "s9s3-CPcccTo",
        "colab": {
          "base_uri": "https://localhost:8080/"
        },
        "outputId": "f59c6fb8-9ba6-4b9d-be03-a7fddb8c878b"
      },
      "source": [
        "df4=pd.read_csv(\"/content/drive/MyDrive/ML/Test Data.csv\")\n",
        "df4"
      ],
      "execution_count": null,
      "outputs": [
        {
          "output_type": "execute_result",
          "data": {
            "text/html": [
              "<div>\n",
              "<style scoped>\n",
              "    .dataframe tbody tr th:only-of-type {\n",
              "        vertical-align: middle;\n",
              "    }\n",
              "\n",
              "    .dataframe tbody tr th {\n",
              "        vertical-align: top;\n",
              "    }\n",
              "\n",
              "    .dataframe thead th {\n",
              "        text-align: right;\n",
              "    }\n",
              "</style>\n",
              "<table border=\"1\" class=\"dataframe\">\n",
              "  <thead>\n",
              "    <tr style=\"text-align: right;\">\n",
              "      <th></th>\n",
              "      <th>record_id</th>\n",
              "      <th>clientid_cr</th>\n",
              "      <th>clmbuserid_cr</th>\n",
              "      <th>conversiontime_cr</th>\n",
              "      <th>imprid_cr</th>\n",
              "      <th>adslotdimid_cr</th>\n",
              "      <th>algo_cr</th>\n",
              "      <th>audiences_cr</th>\n",
              "      <th>clickbid_cr</th>\n",
              "      <th>geodimid_cr</th>\n",
              "      <th>ip_cr</th>\n",
              "      <th>itemcolumbiaid_cr</th>\n",
              "      <th>itemid_cr</th>\n",
              "      <th>position_cr</th>\n",
              "      <th>pubclientid_cr</th>\n",
              "      <th>refurl_cr</th>\n",
              "      <th>siteId_cr</th>\n",
              "      <th>templateid_cr</th>\n",
              "      <th>goalid_cr</th>\n",
              "      <th>time_cr</th>\n",
              "      <th>adLogType_cr</th>\n",
              "      <th>v_cr</th>\n",
              "      <th>allAudiences_cr</th>\n",
              "      <th>pricingtype_cr</th>\n",
              "      <th>osId_cr</th>\n",
              "      <th>browserId_cr</th>\n",
              "      <th>cityId_cr</th>\n",
              "      <th>stateId_cr</th>\n",
              "      <th>modelDimId_cr</th>\n",
              "      <th>lookUpFrom_cr</th>\n",
              "      <th>connTypeDimId_cr</th>\n",
              "      <th>ispDimId_cr</th>\n",
              "      <th>countryDimId_cr</th>\n",
              "      <th>goalTypeId_cr</th>\n",
              "      <th>conversionDurationInMillis_cr</th>\n",
              "      <th>impressionTimeInMillis_cr</th>\n",
              "      <th>clickTimeInMillis_cr</th>\n",
              "      <th>osVerDimId_cr</th>\n",
              "      <th>uuidSource_cr</th>\n",
              "      <th>geoGrpDimId_cr</th>\n",
              "      <th>stateGrpDimId_cr</th>\n",
              "      <th>deviceId_cr</th>\n",
              "      <th>uvh_cr</th>\n",
              "      <th>uv_cr</th>\n",
              "      <th>platformId_cr</th>\n",
              "      <th>sdkVersion_cr</th>\n",
              "      <th>usrClusterId_cr</th>\n",
              "      <th>cityGrpDimId_cr</th>\n",
              "      <th>siteClusterIds_cr</th>\n",
              "      <th>refClusterId_cr</th>\n",
              "      <th>paid_cr</th>\n",
              "      <th>spend_cr</th>\n",
              "      <th>attributionType_cr</th>\n",
              "      <th>conversionid_cr</th>\n",
              "      <th>optimize_on_cr</th>\n",
              "      <th>bundleId_cr</th>\n",
              "    </tr>\n",
              "  </thead>\n",
              "  <tbody>\n",
              "    <tr>\n",
              "      <th>0</th>\n",
              "      <td>1000</td>\n",
              "      <td>82122</td>\n",
              "      <td>1045e8b8-662e-49b3-bc4a-4af5326c8236-62kw</td>\n",
              "      <td>1620000000000</td>\n",
              "      <td>864cdaf0-cca7-4bcc-b210-a33858cf8755-1siz8</td>\n",
              "      <td>233531</td>\n",
              "      <td>38</td>\n",
              "      <td>NaN</td>\n",
              "      <td>NaN</td>\n",
              "      <td>145</td>\n",
              "      <td>XXX.XXX.XXX.XXX</td>\n",
              "      <td>5526656</td>\n",
              "      <td>53184285</td>\n",
              "      <td>3</td>\n",
              "      <td>2658</td>\n",
              "      <td>https%3A%2F%2Ftimesofindia.indiatimes.com%2Fworld</td>\n",
              "      <td>3</td>\n",
              "      <td>2946.0</td>\n",
              "      <td>8628</td>\n",
              "      <td>1620000000000</td>\n",
              "      <td>1</td>\n",
              "      <td>1</td>\n",
              "      <td>9nj,8qu</td>\n",
              "      <td>16</td>\n",
              "      <td>196061</td>\n",
              "      <td>0</td>\n",
              "      <td>0</td>\n",
              "      <td>2442</td>\n",
              "      <td>0</td>\n",
              "      <td>1</td>\n",
              "      <td>264494</td>\n",
              "      <td>265618</td>\n",
              "      <td>145</td>\n",
              "      <td>10</td>\n",
              "      <td>369206</td>\n",
              "      <td>1620000000000</td>\n",
              "      <td>NaN</td>\n",
              "      <td>0</td>\n",
              "      <td>1</td>\n",
              "      <td>348012</td>\n",
              "      <td>NaN</td>\n",
              "      <td>196047.0</td>\n",
              "      <td>NaN</td>\n",
              "      <td>42860785.0</td>\n",
              "      <td>1.0</td>\n",
              "      <td>NaN</td>\n",
              "      <td>NaN</td>\n",
              "      <td>NaN</td>\n",
              "      <td>3.337341e+17</td>\n",
              "      <td>NaN</td>\n",
              "      <td>NaN</td>\n",
              "      <td>NaN</td>\n",
              "      <td>NaN</td>\n",
              "      <td>NaN</td>\n",
              "      <td>NaN</td>\n",
              "      <td>NaN</td>\n",
              "    </tr>\n",
              "    <tr>\n",
              "      <th>1</th>\n",
              "      <td>1001</td>\n",
              "      <td>75694</td>\n",
              "      <td>53a9a707-967d-4a67-8e9f-e3dd55b464e8-10wm0</td>\n",
              "      <td>1620000000000</td>\n",
              "      <td>6c44c171-9445-4e6b-856e-89bfcd0be22c-1sito</td>\n",
              "      <td>356952</td>\n",
              "      <td>20</td>\n",
              "      <td>NaN</td>\n",
              "      <td>3.10</td>\n",
              "      <td>144</td>\n",
              "      <td>XXX.XXX.XXX.XXX</td>\n",
              "      <td>5488773</td>\n",
              "      <td>49504162</td>\n",
              "      <td>1</td>\n",
              "      <td>85030</td>\n",
              "      <td>https%3A%2F%2Fwww.olx.in%2F</td>\n",
              "      <td>3290</td>\n",
              "      <td>5167.0</td>\n",
              "      <td>6384</td>\n",
              "      <td>1620000000000</td>\n",
              "      <td>2</td>\n",
              "      <td>1</td>\n",
              "      <td>oy5,oy7,mgg,oy9,pus,lo4,p12,ps3,oos,p16,oou,o1...</td>\n",
              "      <td>16</td>\n",
              "      <td>196063</td>\n",
              "      <td>129639</td>\n",
              "      <td>10278</td>\n",
              "      <td>1808</td>\n",
              "      <td>202038</td>\n",
              "      <td>2</td>\n",
              "      <td>264496</td>\n",
              "      <td>280429</td>\n",
              "      <td>144</td>\n",
              "      <td>10</td>\n",
              "      <td>2298</td>\n",
              "      <td>1620000000000</td>\n",
              "      <td>1.620000e+12</td>\n",
              "      <td>199414</td>\n",
              "      <td>1</td>\n",
              "      <td>348011</td>\n",
              "      <td>348020.0</td>\n",
              "      <td>NaN</td>\n",
              "      <td>NaN</td>\n",
              "      <td>NaN</td>\n",
              "      <td>NaN</td>\n",
              "      <td>NaN</td>\n",
              "      <td>NaN</td>\n",
              "      <td>348006.0</td>\n",
              "      <td>NaN</td>\n",
              "      <td>NaN</td>\n",
              "      <td>NaN</td>\n",
              "      <td>NaN</td>\n",
              "      <td>NaN</td>\n",
              "      <td>NaN</td>\n",
              "      <td>NaN</td>\n",
              "      <td>NaN</td>\n",
              "    </tr>\n",
              "    <tr>\n",
              "      <th>2</th>\n",
              "      <td>1002</td>\n",
              "      <td>75694</td>\n",
              "      <td>53a9a707-967d-4a67-8e9f-e3dd55b464e8-10wm0</td>\n",
              "      <td>1620000000000</td>\n",
              "      <td>c00eae97-46c5-48b8-89bf-9d45628b9de3-1siz8</td>\n",
              "      <td>356952</td>\n",
              "      <td>18</td>\n",
              "      <td>NaN</td>\n",
              "      <td>3.10</td>\n",
              "      <td>144</td>\n",
              "      <td>XXX.XXX.XXX.XXX</td>\n",
              "      <td>5488088</td>\n",
              "      <td>49504161</td>\n",
              "      <td>1</td>\n",
              "      <td>85030</td>\n",
              "      <td>https%3A%2F%2Fwww.olx.in%2F</td>\n",
              "      <td>3290</td>\n",
              "      <td>5167.0</td>\n",
              "      <td>6384</td>\n",
              "      <td>1620000000000</td>\n",
              "      <td>2</td>\n",
              "      <td>1</td>\n",
              "      <td>oy7,mgg,oy9,lo4,p12,ps3,oos,p16,oou,o1v,p18,5o...</td>\n",
              "      <td>16</td>\n",
              "      <td>196063</td>\n",
              "      <td>129639</td>\n",
              "      <td>10278</td>\n",
              "      <td>1808</td>\n",
              "      <td>202038</td>\n",
              "      <td>2</td>\n",
              "      <td>264496</td>\n",
              "      <td>280429</td>\n",
              "      <td>144</td>\n",
              "      <td>10</td>\n",
              "      <td>5713</td>\n",
              "      <td>1620000000000</td>\n",
              "      <td>1.620000e+12</td>\n",
              "      <td>199414</td>\n",
              "      <td>1</td>\n",
              "      <td>348011</td>\n",
              "      <td>348020.0</td>\n",
              "      <td>NaN</td>\n",
              "      <td>NaN</td>\n",
              "      <td>NaN</td>\n",
              "      <td>NaN</td>\n",
              "      <td>NaN</td>\n",
              "      <td>NaN</td>\n",
              "      <td>348006.0</td>\n",
              "      <td>NaN</td>\n",
              "      <td>NaN</td>\n",
              "      <td>NaN</td>\n",
              "      <td>NaN</td>\n",
              "      <td>NaN</td>\n",
              "      <td>NaN</td>\n",
              "      <td>NaN</td>\n",
              "      <td>NaN</td>\n",
              "    </tr>\n",
              "    <tr>\n",
              "      <th>3</th>\n",
              "      <td>1003</td>\n",
              "      <td>30431</td>\n",
              "      <td>5febd7e2-b66a-4af0-91ec-117557684188-10wrk</td>\n",
              "      <td>1620000000000</td>\n",
              "      <td>40aad66c-d2da-4635-8b5e-46aca58d2dc6-10o78</td>\n",
              "      <td>355768</td>\n",
              "      <td>21</td>\n",
              "      <td>NaN</td>\n",
              "      <td>NaN</td>\n",
              "      <td>144</td>\n",
              "      <td>XXX.XXX.XXX.XXX</td>\n",
              "      <td>5614054</td>\n",
              "      <td>53607445</td>\n",
              "      <td>1</td>\n",
              "      <td>1</td>\n",
              "      <td>NaN</td>\n",
              "      <td>3296</td>\n",
              "      <td>NaN</td>\n",
              "      <td>3370</td>\n",
              "      <td>1620000000000</td>\n",
              "      <td>2</td>\n",
              "      <td>1</td>\n",
              "      <td>761,jyq,jtl,o28,q04,o1v,o1x,kxs,5vy,75y,nr2</td>\n",
              "      <td>17</td>\n",
              "      <td>129311</td>\n",
              "      <td>129408</td>\n",
              "      <td>10239</td>\n",
              "      <td>1801</td>\n",
              "      <td>0</td>\n",
              "      <td>2</td>\n",
              "      <td>264496</td>\n",
              "      <td>280429</td>\n",
              "      <td>144</td>\n",
              "      <td>10</td>\n",
              "      <td>66670</td>\n",
              "      <td>1620000000000</td>\n",
              "      <td>1.620000e+12</td>\n",
              "      <td>360833</td>\n",
              "      <td>1</td>\n",
              "      <td>348011</td>\n",
              "      <td>348025.0</td>\n",
              "      <td>NaN</td>\n",
              "      <td>NaN</td>\n",
              "      <td>NaN</td>\n",
              "      <td>NaN</td>\n",
              "      <td>NaN</td>\n",
              "      <td>NaN</td>\n",
              "      <td>348010.0</td>\n",
              "      <td>NaN</td>\n",
              "      <td>NaN</td>\n",
              "      <td>1.0</td>\n",
              "      <td>275.0</td>\n",
              "      <td>1.0</td>\n",
              "      <td>NaN</td>\n",
              "      <td>NaN</td>\n",
              "      <td>NaN</td>\n",
              "    </tr>\n",
              "    <tr>\n",
              "      <th>4</th>\n",
              "      <td>1004</td>\n",
              "      <td>30431</td>\n",
              "      <td>5febd7e2-b66a-4af0-91ec-117557684188-10wrk</td>\n",
              "      <td>1620000000000</td>\n",
              "      <td>4742d072-32ed-45bc-9ca9-5dca4a69f5b1-10onw</td>\n",
              "      <td>355768</td>\n",
              "      <td>21</td>\n",
              "      <td>NaN</td>\n",
              "      <td>NaN</td>\n",
              "      <td>144</td>\n",
              "      <td>XXX.XXX.XXX.XXX</td>\n",
              "      <td>5614054</td>\n",
              "      <td>53607445</td>\n",
              "      <td>1</td>\n",
              "      <td>1</td>\n",
              "      <td>NaN</td>\n",
              "      <td>3296</td>\n",
              "      <td>NaN</td>\n",
              "      <td>3370</td>\n",
              "      <td>1620000000000</td>\n",
              "      <td>2</td>\n",
              "      <td>1</td>\n",
              "      <td>761,jyq,jtl,o28,q04,o1v,o1x,kxs,5vy,75y,nr2</td>\n",
              "      <td>17</td>\n",
              "      <td>129311</td>\n",
              "      <td>129408</td>\n",
              "      <td>10239</td>\n",
              "      <td>1801</td>\n",
              "      <td>0</td>\n",
              "      <td>2</td>\n",
              "      <td>264496</td>\n",
              "      <td>280429</td>\n",
              "      <td>144</td>\n",
              "      <td>10</td>\n",
              "      <td>53789</td>\n",
              "      <td>1620000000000</td>\n",
              "      <td>1.620000e+12</td>\n",
              "      <td>360833</td>\n",
              "      <td>1</td>\n",
              "      <td>348011</td>\n",
              "      <td>348025.0</td>\n",
              "      <td>NaN</td>\n",
              "      <td>NaN</td>\n",
              "      <td>NaN</td>\n",
              "      <td>NaN</td>\n",
              "      <td>NaN</td>\n",
              "      <td>NaN</td>\n",
              "      <td>348010.0</td>\n",
              "      <td>NaN</td>\n",
              "      <td>NaN</td>\n",
              "      <td>1.0</td>\n",
              "      <td>275.0</td>\n",
              "      <td>1.0</td>\n",
              "      <td>NaN</td>\n",
              "      <td>NaN</td>\n",
              "      <td>NaN</td>\n",
              "    </tr>\n",
              "    <tr>\n",
              "      <th>...</th>\n",
              "      <td>...</td>\n",
              "      <td>...</td>\n",
              "      <td>...</td>\n",
              "      <td>...</td>\n",
              "      <td>...</td>\n",
              "      <td>...</td>\n",
              "      <td>...</td>\n",
              "      <td>...</td>\n",
              "      <td>...</td>\n",
              "      <td>...</td>\n",
              "      <td>...</td>\n",
              "      <td>...</td>\n",
              "      <td>...</td>\n",
              "      <td>...</td>\n",
              "      <td>...</td>\n",
              "      <td>...</td>\n",
              "      <td>...</td>\n",
              "      <td>...</td>\n",
              "      <td>...</td>\n",
              "      <td>...</td>\n",
              "      <td>...</td>\n",
              "      <td>...</td>\n",
              "      <td>...</td>\n",
              "      <td>...</td>\n",
              "      <td>...</td>\n",
              "      <td>...</td>\n",
              "      <td>...</td>\n",
              "      <td>...</td>\n",
              "      <td>...</td>\n",
              "      <td>...</td>\n",
              "      <td>...</td>\n",
              "      <td>...</td>\n",
              "      <td>...</td>\n",
              "      <td>...</td>\n",
              "      <td>...</td>\n",
              "      <td>...</td>\n",
              "      <td>...</td>\n",
              "      <td>...</td>\n",
              "      <td>...</td>\n",
              "      <td>...</td>\n",
              "      <td>...</td>\n",
              "      <td>...</td>\n",
              "      <td>...</td>\n",
              "      <td>...</td>\n",
              "      <td>...</td>\n",
              "      <td>...</td>\n",
              "      <td>...</td>\n",
              "      <td>...</td>\n",
              "      <td>...</td>\n",
              "      <td>...</td>\n",
              "      <td>...</td>\n",
              "      <td>...</td>\n",
              "      <td>...</td>\n",
              "      <td>...</td>\n",
              "      <td>...</td>\n",
              "      <td>...</td>\n",
              "    </tr>\n",
              "    <tr>\n",
              "      <th>450</th>\n",
              "      <td>1450</td>\n",
              "      <td>75694</td>\n",
              "      <td>d7b5dfcb-b5ea-4862-8e47-5d775c568b00-6m6g</td>\n",
              "      <td>1620000000000</td>\n",
              "      <td>ff755b7d-00a4-426a-835c-ddf7f56af2b3-10o78</td>\n",
              "      <td>332783</td>\n",
              "      <td>20</td>\n",
              "      <td>8kt,8j4,8k6,8kv,8j6,8k8,2vk,8gv,2vl,8gw,8iy,3s...</td>\n",
              "      <td>3.10</td>\n",
              "      <td>144</td>\n",
              "      <td>XXX.XXX.XXX.XXX</td>\n",
              "      <td>5488773</td>\n",
              "      <td>49504155</td>\n",
              "      <td>181581299</td>\n",
              "      <td>2658</td>\n",
              "      <td>https%3A%2F%2Ftimesofindia.indiatimes.com%2Fin...</td>\n",
              "      <td>3</td>\n",
              "      <td>4376.0</td>\n",
              "      <td>6384</td>\n",
              "      <td>1620000000000</td>\n",
              "      <td>2</td>\n",
              "      <td>1</td>\n",
              "      <td>n90,n91,n98,nyw,n7x,n7z,qq3,qq5,apc,357,n8a,35...</td>\n",
              "      <td>16</td>\n",
              "      <td>196058</td>\n",
              "      <td>129639</td>\n",
              "      <td>0</td>\n",
              "      <td>1808</td>\n",
              "      <td>202038</td>\n",
              "      <td>2</td>\n",
              "      <td>264494</td>\n",
              "      <td>266906</td>\n",
              "      <td>144</td>\n",
              "      <td>10</td>\n",
              "      <td>4954</td>\n",
              "      <td>1620000000000</td>\n",
              "      <td>1.620000e+12</td>\n",
              "      <td>199452</td>\n",
              "      <td>1</td>\n",
              "      <td>348011</td>\n",
              "      <td>348020.0</td>\n",
              "      <td>NaN</td>\n",
              "      <td>NaN</td>\n",
              "      <td>NaN</td>\n",
              "      <td>NaN</td>\n",
              "      <td>NaN</td>\n",
              "      <td>3.334963e+17</td>\n",
              "      <td>NaN</td>\n",
              "      <td>3.337341e+17</td>\n",
              "      <td>NaN</td>\n",
              "      <td>NaN</td>\n",
              "      <td>NaN</td>\n",
              "      <td>NaN</td>\n",
              "      <td>NaN</td>\n",
              "      <td>NaN</td>\n",
              "      <td>NaN</td>\n",
              "    </tr>\n",
              "    <tr>\n",
              "      <th>451</th>\n",
              "      <td>1451</td>\n",
              "      <td>75694</td>\n",
              "      <td>81b2e0f3-ba16-4f1d-ba54-cbb18ab54dca-1sjac</td>\n",
              "      <td>1620000000000</td>\n",
              "      <td>ff89a128-e0b9-4dcd-9a3f-257dff9e4dd5-10o78</td>\n",
              "      <td>129239</td>\n",
              "      <td>20</td>\n",
              "      <td>8gq,8k6,8kv,8k8,2vk,8gv,2vl,8gw,2x6,2vv,30r,8g...</td>\n",
              "      <td>NaN</td>\n",
              "      <td>144</td>\n",
              "      <td>XXX.XXX.XXX.XXX</td>\n",
              "      <td>5488773</td>\n",
              "      <td>49504157</td>\n",
              "      <td>1</td>\n",
              "      <td>15240</td>\n",
              "      <td>https%3A%2F%2Fwww.cricbuzz.com%2Flive-cricket-...</td>\n",
              "      <td>178</td>\n",
              "      <td>663.0</td>\n",
              "      <td>6384</td>\n",
              "      <td>1620000000000</td>\n",
              "      <td>1</td>\n",
              "      <td>1</td>\n",
              "      <td>nyw,n7x,592,n7z,apc,357,n8a,359,n8e,n8g,58k,lf...</td>\n",
              "      <td>16</td>\n",
              "      <td>129300</td>\n",
              "      <td>129639</td>\n",
              "      <td>438</td>\n",
              "      <td>1818</td>\n",
              "      <td>202038</td>\n",
              "      <td>1</td>\n",
              "      <td>264494</td>\n",
              "      <td>133765</td>\n",
              "      <td>144</td>\n",
              "      <td>10</td>\n",
              "      <td>141841</td>\n",
              "      <td>1620000000000</td>\n",
              "      <td>NaN</td>\n",
              "      <td>199522</td>\n",
              "      <td>1</td>\n",
              "      <td>348011</td>\n",
              "      <td>348025.0</td>\n",
              "      <td>196047.0</td>\n",
              "      <td>NaN</td>\n",
              "      <td>NaN</td>\n",
              "      <td>1.0</td>\n",
              "      <td>NaN</td>\n",
              "      <td>3.334951e+17</td>\n",
              "      <td>348009.0</td>\n",
              "      <td>NaN</td>\n",
              "      <td>NaN</td>\n",
              "      <td>NaN</td>\n",
              "      <td>NaN</td>\n",
              "      <td>NaN</td>\n",
              "      <td>NaN</td>\n",
              "      <td>NaN</td>\n",
              "      <td>NaN</td>\n",
              "    </tr>\n",
              "    <tr>\n",
              "      <th>452</th>\n",
              "      <td>1452</td>\n",
              "      <td>75694</td>\n",
              "      <td>9453538d-3c8a-4e9b-aff3-85a37b722429-1sj4s</td>\n",
              "      <td>1620000000000</td>\n",
              "      <td>ff9b716c-4cd1-44a7-9c21-19f6a73f31a2-10nqk</td>\n",
              "      <td>129237</td>\n",
              "      <td>37</td>\n",
              "      <td>8kv,2vk,8gw,2vl</td>\n",
              "      <td>3.10</td>\n",
              "      <td>144</td>\n",
              "      <td>XXX.XXX.XXX.XXX</td>\n",
              "      <td>5488773</td>\n",
              "      <td>49504154</td>\n",
              "      <td>1</td>\n",
              "      <td>15240</td>\n",
              "      <td>https%3A%2F%2Fwww.cricbuzz.com%2Flive-cricket-...</td>\n",
              "      <td>178</td>\n",
              "      <td>764.0</td>\n",
              "      <td>6384</td>\n",
              "      <td>1620000000000</td>\n",
              "      <td>2</td>\n",
              "      <td>1</td>\n",
              "      <td>7dx,oy7,592,lo4,owx,apc,5o2,o6b,oxf,o6d,n4f,o6...</td>\n",
              "      <td>16</td>\n",
              "      <td>196058</td>\n",
              "      <td>129639</td>\n",
              "      <td>10313</td>\n",
              "      <td>1817</td>\n",
              "      <td>202038</td>\n",
              "      <td>2</td>\n",
              "      <td>264494</td>\n",
              "      <td>147570</td>\n",
              "      <td>144</td>\n",
              "      <td>10</td>\n",
              "      <td>1944</td>\n",
              "      <td>1620000000000</td>\n",
              "      <td>1.620000e+12</td>\n",
              "      <td>199452</td>\n",
              "      <td>1</td>\n",
              "      <td>348011</td>\n",
              "      <td>348024.0</td>\n",
              "      <td>NaN</td>\n",
              "      <td>NaN</td>\n",
              "      <td>NaN</td>\n",
              "      <td>NaN</td>\n",
              "      <td>NaN</td>\n",
              "      <td>NaN</td>\n",
              "      <td>348010.0</td>\n",
              "      <td>NaN</td>\n",
              "      <td>NaN</td>\n",
              "      <td>NaN</td>\n",
              "      <td>NaN</td>\n",
              "      <td>NaN</td>\n",
              "      <td>NaN</td>\n",
              "      <td>NaN</td>\n",
              "      <td>NaN</td>\n",
              "    </tr>\n",
              "    <tr>\n",
              "      <th>453</th>\n",
              "      <td>1453</td>\n",
              "      <td>8895</td>\n",
              "      <td>8399fad4-a7de-49ec-9e58-d18530086e7d</td>\n",
              "      <td>1620000000000</td>\n",
              "      <td>ffc803da-ac63-4bf3-88fa-bd1d70bcdc39-10ntc</td>\n",
              "      <td>334760</td>\n",
              "      <td>2</td>\n",
              "      <td>jof,8l5,jog,3si,jo3,nqv,jo8,8ke,8kf,8kg,jo9,7g...</td>\n",
              "      <td>NaN</td>\n",
              "      <td>144</td>\n",
              "      <td>XXX.XXX.XXX.XXX</td>\n",
              "      <td>5601460</td>\n",
              "      <td>52820721</td>\n",
              "      <td>3</td>\n",
              "      <td>76969</td>\n",
              "      <td>http%3A%2F%2Ftimesofindia.indiatimes.com%2F</td>\n",
              "      <td>2923</td>\n",
              "      <td>1128.0</td>\n",
              "      <td>405</td>\n",
              "      <td>1620000000000</td>\n",
              "      <td>2</td>\n",
              "      <td>1</td>\n",
              "      <td>cu3,3ud,69f,33h,33i,33k,nyw,n7x,350,n7z,352,l3...</td>\n",
              "      <td>17</td>\n",
              "      <td>129311</td>\n",
              "      <td>129433</td>\n",
              "      <td>0</td>\n",
              "      <td>1803</td>\n",
              "      <td>0</td>\n",
              "      <td>2</td>\n",
              "      <td>264496</td>\n",
              "      <td>273302</td>\n",
              "      <td>144</td>\n",
              "      <td>10</td>\n",
              "      <td>44581</td>\n",
              "      <td>1620000000000</td>\n",
              "      <td>1.620000e+12</td>\n",
              "      <td>360833</td>\n",
              "      <td>1</td>\n",
              "      <td>348011</td>\n",
              "      <td>348026.0</td>\n",
              "      <td>NaN</td>\n",
              "      <td>NaN</td>\n",
              "      <td>NaN</td>\n",
              "      <td>NaN</td>\n",
              "      <td>NaN</td>\n",
              "      <td>3.335000e+05</td>\n",
              "      <td>NaN</td>\n",
              "      <td>3.337341e+17</td>\n",
              "      <td>NaN</td>\n",
              "      <td>1.0</td>\n",
              "      <td>600.0</td>\n",
              "      <td>1.0</td>\n",
              "      <td>NaN</td>\n",
              "      <td>NaN</td>\n",
              "      <td>NaN</td>\n",
              "    </tr>\n",
              "    <tr>\n",
              "      <th>454</th>\n",
              "      <td>1454</td>\n",
              "      <td>75694</td>\n",
              "      <td>f4e73931-1c75-486c-874c-472ccf018827-6mhk</td>\n",
              "      <td>1620000000000</td>\n",
              "      <td>fff5b2b9-fb23-4dec-8873-67e36ba8f272-1sjfw</td>\n",
              "      <td>239188</td>\n",
              "      <td>38</td>\n",
              "      <td>8go,2vk,8gw,3si,o3b</td>\n",
              "      <td>2.79</td>\n",
              "      <td>144</td>\n",
              "      <td>XXX.XXX.XXX.XXX</td>\n",
              "      <td>5488773</td>\n",
              "      <td>49504155</td>\n",
              "      <td>2</td>\n",
              "      <td>2658</td>\n",
              "      <td>https%3A%2F%2Ftimesofindia.indiatimes.com%2Fci...</td>\n",
              "      <td>3</td>\n",
              "      <td>3024.0</td>\n",
              "      <td>6384</td>\n",
              "      <td>1620000000000</td>\n",
              "      <td>2</td>\n",
              "      <td>1</td>\n",
              "      <td>pdu,au7,nqo,n7x,2ws,8ka,lo4,n3v,apc,nqy,5o2,o6...</td>\n",
              "      <td>16</td>\n",
              "      <td>196063</td>\n",
              "      <td>129639</td>\n",
              "      <td>0</td>\n",
              "      <td>1806</td>\n",
              "      <td>202038</td>\n",
              "      <td>2</td>\n",
              "      <td>264496</td>\n",
              "      <td>280429</td>\n",
              "      <td>144</td>\n",
              "      <td>10</td>\n",
              "      <td>2518</td>\n",
              "      <td>1620000000000</td>\n",
              "      <td>1.620000e+12</td>\n",
              "      <td>199414</td>\n",
              "      <td>1</td>\n",
              "      <td>348011</td>\n",
              "      <td>348022.0</td>\n",
              "      <td>NaN</td>\n",
              "      <td>NaN</td>\n",
              "      <td>NaN</td>\n",
              "      <td>NaN</td>\n",
              "      <td>NaN</td>\n",
              "      <td>NaN</td>\n",
              "      <td>NaN</td>\n",
              "      <td>3.337341e+17</td>\n",
              "      <td>NaN</td>\n",
              "      <td>NaN</td>\n",
              "      <td>NaN</td>\n",
              "      <td>NaN</td>\n",
              "      <td>NaN</td>\n",
              "      <td>NaN</td>\n",
              "      <td>NaN</td>\n",
              "    </tr>\n",
              "  </tbody>\n",
              "</table>\n",
              "<p>455 rows × 56 columns</p>\n",
              "</div>"
            ],
            "text/plain": [
              "     record_id  clientid_cr  ... optimize_on_cr  bundleId_cr\n",
              "0         1000        82122  ...            NaN          NaN\n",
              "1         1001        75694  ...            NaN          NaN\n",
              "2         1002        75694  ...            NaN          NaN\n",
              "3         1003        30431  ...            NaN          NaN\n",
              "4         1004        30431  ...            NaN          NaN\n",
              "..         ...          ...  ...            ...          ...\n",
              "450       1450        75694  ...            NaN          NaN\n",
              "451       1451        75694  ...            NaN          NaN\n",
              "452       1452        75694  ...            NaN          NaN\n",
              "453       1453         8895  ...            NaN          NaN\n",
              "454       1454        75694  ...            NaN          NaN\n",
              "\n",
              "[455 rows x 56 columns]"
            ]
          },
          "metadata": {
            "tags": []
          },
          "execution_count": 964
        }
      ]
    },
    {
      "cell_type": "code",
      "metadata": {
        "id": "ULFuqq1j9FTD"
      },
      "source": [
        "ex_col=df2['devTypeDimId']\n",
        "df4.insert(12,'devTypeDimId',ex_col)"
      ],
      "execution_count": null,
      "outputs": []
    },
    {
      "cell_type": "code",
      "metadata": {
        "id": "vVKpuaewe7cr"
      },
      "source": [
        "ex_col=df2['itmClmbLId']\n",
        "df4.insert(10,'itmClmbLId',ex_col)"
      ],
      "execution_count": null,
      "outputs": []
    },
    {
      "cell_type": "code",
      "metadata": {
        "id": "ibpgmT3Ae8bt"
      },
      "source": [
        "ex_col=df2['clickIp']\n",
        "df4.insert(3,'clickIp',ex_col)"
      ],
      "execution_count": null,
      "outputs": []
    },
    {
      "cell_type": "code",
      "metadata": {
        "id": "dYyGyPfd640S"
      },
      "source": [
        "df5=df4[['clientid_cr','imprid_cr', 'pubclientid_cr','clickIp','clmbuserid_cr','siteId_cr','goalid_cr','cityId_cr','browserId_cr','adslotdimid_cr','itmClmbLId','ispDimId_cr','devTypeDimId','osVerDimId_cr']]"
      ],
      "execution_count": null,
      "outputs": []
    },
    {
      "cell_type": "code",
      "metadata": {
        "colab": {
          "base_uri": "https://localhost:8080/"
        },
        "id": "UWEjRVumHzT0",
        "outputId": "735c798f-6743-4032-ce9e-f3f262686edb"
      },
      "source": [
        "'''df5'''"
      ],
      "execution_count": null,
      "outputs": [
        {
          "output_type": "execute_result",
          "data": {
            "application/vnd.google.colaboratory.intrinsic+json": {
              "type": "string"
            },
            "text/plain": [
              "'df5'"
            ]
          },
          "metadata": {
            "tags": []
          },
          "execution_count": 969
        }
      ]
    },
    {
      "cell_type": "code",
      "metadata": {
        "colab": {
          "base_uri": "https://localhost:8080/"
        },
        "id": "umkDTYThJu-g",
        "outputId": "d442506d-0115-4589-eca6-c68f30b65194"
      },
      "source": [
        "df5['clickIp'] = df5['clickIp'].astype('|S')"
      ],
      "execution_count": null,
      "outputs": [
        {
          "output_type": "stream",
          "text": [
            "/usr/local/lib/python3.7/dist-packages/ipykernel_launcher.py:1: SettingWithCopyWarning: \n",
            "A value is trying to be set on a copy of a slice from a DataFrame.\n",
            "Try using .loc[row_indexer,col_indexer] = value instead\n",
            "\n",
            "See the caveats in the documentation: https://pandas.pydata.org/pandas-docs/stable/user_guide/indexing.html#returning-a-view-versus-a-copy\n",
            "  \"\"\"Entry point for launching an IPython kernel.\n"
          ],
          "name": "stderr"
        }
      ]
    },
    {
      "cell_type": "code",
      "metadata": {
        "colab": {
          "base_uri": "https://localhost:8080/"
        },
        "id": "sHsaEs2AI4Qx",
        "outputId": "d6eef02e-f5f7-4c77-9907-9157254b0b2e"
      },
      "source": [
        "from sklearn.preprocessing import LabelEncoder\n",
        "labelencoder_X = LabelEncoder()\n",
        "df5['clickIp'] = labelencoder_X.fit_transform(df5['clickIp'])"
      ],
      "execution_count": null,
      "outputs": [
        {
          "output_type": "stream",
          "text": [
            "/usr/local/lib/python3.7/dist-packages/ipykernel_launcher.py:3: SettingWithCopyWarning: \n",
            "A value is trying to be set on a copy of a slice from a DataFrame.\n",
            "Try using .loc[row_indexer,col_indexer] = value instead\n",
            "\n",
            "See the caveats in the documentation: https://pandas.pydata.org/pandas-docs/stable/user_guide/indexing.html#returning-a-view-versus-a-copy\n",
            "  This is separate from the ipykernel package so we can avoid doing imports until\n"
          ],
          "name": "stderr"
        }
      ]
    },
    {
      "cell_type": "code",
      "metadata": {
        "colab": {
          "base_uri": "https://localhost:8080/"
        },
        "id": "EPKinrxxI4Qy",
        "outputId": "14cf07f9-a987-4232-c0bd-a83742cd1fb7"
      },
      "source": [
        "from sklearn.preprocessing import LabelEncoder\n",
        "labelencoder_X = LabelEncoder()\n",
        "df5['clmbuserid_cr'] = labelencoder_X.fit_transform(df5['clmbuserid_cr'])"
      ],
      "execution_count": null,
      "outputs": [
        {
          "output_type": "stream",
          "text": [
            "/usr/local/lib/python3.7/dist-packages/ipykernel_launcher.py:3: SettingWithCopyWarning: \n",
            "A value is trying to be set on a copy of a slice from a DataFrame.\n",
            "Try using .loc[row_indexer,col_indexer] = value instead\n",
            "\n",
            "See the caveats in the documentation: https://pandas.pydata.org/pandas-docs/stable/user_guide/indexing.html#returning-a-view-versus-a-copy\n",
            "  This is separate from the ipykernel package so we can avoid doing imports until\n"
          ],
          "name": "stderr"
        }
      ]
    },
    {
      "cell_type": "code",
      "metadata": {
        "colab": {
          "base_uri": "https://localhost:8080/"
        },
        "id": "e4nJG40zI4Qz",
        "outputId": "4c270e0f-38f5-4415-cea8-bb88ab73f862"
      },
      "source": [
        "from sklearn.preprocessing import LabelEncoder\n",
        "labelencoder_X = LabelEncoder()\n",
        "df5['imprid_cr'] = labelencoder_X.fit_transform(df5['imprid_cr'])"
      ],
      "execution_count": null,
      "outputs": [
        {
          "output_type": "stream",
          "text": [
            "/usr/local/lib/python3.7/dist-packages/ipykernel_launcher.py:3: SettingWithCopyWarning: \n",
            "A value is trying to be set on a copy of a slice from a DataFrame.\n",
            "Try using .loc[row_indexer,col_indexer] = value instead\n",
            "\n",
            "See the caveats in the documentation: https://pandas.pydata.org/pandas-docs/stable/user_guide/indexing.html#returning-a-view-versus-a-copy\n",
            "  This is separate from the ipykernel package so we can avoid doing imports until\n"
          ],
          "name": "stderr"
        }
      ]
    },
    {
      "cell_type": "code",
      "metadata": {
        "colab": {
          "base_uri": "https://localhost:8080/"
        },
        "id": "8cwnDE-MKRFb",
        "outputId": "7b4b9256-1185-4db1-fb0f-a5ffe219898d"
      },
      "source": [
        "df5=df5.dropna()\n",
        "df5"
      ],
      "execution_count": null,
      "outputs": [
        {
          "output_type": "execute_result",
          "data": {
            "text/html": [
              "<div>\n",
              "<style scoped>\n",
              "    .dataframe tbody tr th:only-of-type {\n",
              "        vertical-align: middle;\n",
              "    }\n",
              "\n",
              "    .dataframe tbody tr th {\n",
              "        vertical-align: top;\n",
              "    }\n",
              "\n",
              "    .dataframe thead th {\n",
              "        text-align: right;\n",
              "    }\n",
              "</style>\n",
              "<table border=\"1\" class=\"dataframe\">\n",
              "  <thead>\n",
              "    <tr style=\"text-align: right;\">\n",
              "      <th></th>\n",
              "      <th>clientid_cr</th>\n",
              "      <th>imprid_cr</th>\n",
              "      <th>pubclientid_cr</th>\n",
              "      <th>clickIp</th>\n",
              "      <th>clmbuserid_cr</th>\n",
              "      <th>siteId_cr</th>\n",
              "      <th>goalid_cr</th>\n",
              "      <th>cityId_cr</th>\n",
              "      <th>browserId_cr</th>\n",
              "      <th>adslotdimid_cr</th>\n",
              "      <th>itmClmbLId</th>\n",
              "      <th>ispDimId_cr</th>\n",
              "      <th>devTypeDimId</th>\n",
              "      <th>osVerDimId_cr</th>\n",
              "    </tr>\n",
              "  </thead>\n",
              "  <tbody>\n",
              "    <tr>\n",
              "      <th>0</th>\n",
              "      <td>82122</td>\n",
              "      <td>40</td>\n",
              "      <td>2658</td>\n",
              "      <td>0</td>\n",
              "      <td>28</td>\n",
              "      <td>3</td>\n",
              "      <td>8628</td>\n",
              "      <td>0</td>\n",
              "      <td>0</td>\n",
              "      <td>233531</td>\n",
              "      <td>5488773</td>\n",
              "      <td>265618</td>\n",
              "      <td>202038.0</td>\n",
              "      <td>0</td>\n",
              "    </tr>\n",
              "    <tr>\n",
              "      <th>1</th>\n",
              "      <td>75694</td>\n",
              "      <td>36</td>\n",
              "      <td>85030</td>\n",
              "      <td>0</td>\n",
              "      <td>135</td>\n",
              "      <td>3290</td>\n",
              "      <td>6384</td>\n",
              "      <td>10278</td>\n",
              "      <td>129639</td>\n",
              "      <td>356952</td>\n",
              "      <td>5488088</td>\n",
              "      <td>280429</td>\n",
              "      <td>204038.0</td>\n",
              "      <td>199414</td>\n",
              "    </tr>\n",
              "    <tr>\n",
              "      <th>2</th>\n",
              "      <td>75694</td>\n",
              "      <td>141</td>\n",
              "      <td>85030</td>\n",
              "      <td>0</td>\n",
              "      <td>135</td>\n",
              "      <td>3290</td>\n",
              "      <td>6384</td>\n",
              "      <td>10278</td>\n",
              "      <td>129639</td>\n",
              "      <td>356952</td>\n",
              "      <td>5488773</td>\n",
              "      <td>280429</td>\n",
              "      <td>202038.0</td>\n",
              "      <td>199414</td>\n",
              "    </tr>\n",
              "    <tr>\n",
              "      <th>3</th>\n",
              "      <td>30431</td>\n",
              "      <td>17</td>\n",
              "      <td>1</td>\n",
              "      <td>0</td>\n",
              "      <td>158</td>\n",
              "      <td>3296</td>\n",
              "      <td>3370</td>\n",
              "      <td>10239</td>\n",
              "      <td>129408</td>\n",
              "      <td>355768</td>\n",
              "      <td>5488773</td>\n",
              "      <td>280429</td>\n",
              "      <td>202038.0</td>\n",
              "      <td>360833</td>\n",
              "    </tr>\n",
              "    <tr>\n",
              "      <th>4</th>\n",
              "      <td>30431</td>\n",
              "      <td>22</td>\n",
              "      <td>1</td>\n",
              "      <td>0</td>\n",
              "      <td>158</td>\n",
              "      <td>3296</td>\n",
              "      <td>3370</td>\n",
              "      <td>10239</td>\n",
              "      <td>129408</td>\n",
              "      <td>355768</td>\n",
              "      <td>5488773</td>\n",
              "      <td>280429</td>\n",
              "      <td>202038.0</td>\n",
              "      <td>360833</td>\n",
              "    </tr>\n",
              "    <tr>\n",
              "      <th>...</th>\n",
              "      <td>...</td>\n",
              "      <td>...</td>\n",
              "      <td>...</td>\n",
              "      <td>...</td>\n",
              "      <td>...</td>\n",
              "      <td>...</td>\n",
              "      <td>...</td>\n",
              "      <td>...</td>\n",
              "      <td>...</td>\n",
              "      <td>...</td>\n",
              "      <td>...</td>\n",
              "      <td>...</td>\n",
              "      <td>...</td>\n",
              "      <td>...</td>\n",
              "    </tr>\n",
              "    <tr>\n",
              "      <th>450</th>\n",
              "      <td>75694</td>\n",
              "      <td>447</td>\n",
              "      <td>2658</td>\n",
              "      <td>0</td>\n",
              "      <td>370</td>\n",
              "      <td>3</td>\n",
              "      <td>6384</td>\n",
              "      <td>0</td>\n",
              "      <td>129639</td>\n",
              "      <td>332783</td>\n",
              "      <td>5488088</td>\n",
              "      <td>266906</td>\n",
              "      <td>202038.0</td>\n",
              "      <td>199452</td>\n",
              "    </tr>\n",
              "    <tr>\n",
              "      <th>451</th>\n",
              "      <td>75694</td>\n",
              "      <td>448</td>\n",
              "      <td>15240</td>\n",
              "      <td>0</td>\n",
              "      <td>209</td>\n",
              "      <td>178</td>\n",
              "      <td>6384</td>\n",
              "      <td>438</td>\n",
              "      <td>129639</td>\n",
              "      <td>129239</td>\n",
              "      <td>5488773</td>\n",
              "      <td>133765</td>\n",
              "      <td>202038.0</td>\n",
              "      <td>199522</td>\n",
              "    </tr>\n",
              "    <tr>\n",
              "      <th>452</th>\n",
              "      <td>75694</td>\n",
              "      <td>449</td>\n",
              "      <td>15240</td>\n",
              "      <td>15</td>\n",
              "      <td>245</td>\n",
              "      <td>178</td>\n",
              "      <td>6384</td>\n",
              "      <td>10313</td>\n",
              "      <td>129639</td>\n",
              "      <td>129237</td>\n",
              "      <td>5602209</td>\n",
              "      <td>147570</td>\n",
              "      <td>196041.0</td>\n",
              "      <td>199452</td>\n",
              "    </tr>\n",
              "    <tr>\n",
              "      <th>453</th>\n",
              "      <td>8895</td>\n",
              "      <td>450</td>\n",
              "      <td>76969</td>\n",
              "      <td>0</td>\n",
              "      <td>214</td>\n",
              "      <td>2923</td>\n",
              "      <td>405</td>\n",
              "      <td>0</td>\n",
              "      <td>129433</td>\n",
              "      <td>334760</td>\n",
              "      <td>5488773</td>\n",
              "      <td>273302</td>\n",
              "      <td>202038.0</td>\n",
              "      <td>360833</td>\n",
              "    </tr>\n",
              "    <tr>\n",
              "      <th>454</th>\n",
              "      <td>75694</td>\n",
              "      <td>451</td>\n",
              "      <td>2658</td>\n",
              "      <td>0</td>\n",
              "      <td>416</td>\n",
              "      <td>3</td>\n",
              "      <td>6384</td>\n",
              "      <td>0</td>\n",
              "      <td>129639</td>\n",
              "      <td>239188</td>\n",
              "      <td>5488773</td>\n",
              "      <td>280429</td>\n",
              "      <td>202038.0</td>\n",
              "      <td>199414</td>\n",
              "    </tr>\n",
              "  </tbody>\n",
              "</table>\n",
              "<p>455 rows × 14 columns</p>\n",
              "</div>"
            ],
            "text/plain": [
              "     clientid_cr  imprid_cr  ...  devTypeDimId  osVerDimId_cr\n",
              "0          82122         40  ...      202038.0              0\n",
              "1          75694         36  ...      204038.0         199414\n",
              "2          75694        141  ...      202038.0         199414\n",
              "3          30431         17  ...      202038.0         360833\n",
              "4          30431         22  ...      202038.0         360833\n",
              "..           ...        ...  ...           ...            ...\n",
              "450        75694        447  ...      202038.0         199452\n",
              "451        75694        448  ...      202038.0         199522\n",
              "452        75694        449  ...      196041.0         199452\n",
              "453         8895        450  ...      202038.0         360833\n",
              "454        75694        451  ...      202038.0         199414\n",
              "\n",
              "[455 rows x 14 columns]"
            ]
          },
          "metadata": {
            "tags": []
          },
          "execution_count": 974
        }
      ]
    },
    {
      "cell_type": "code",
      "metadata": {
        "colab": {
          "base_uri": "https://localhost:8080/"
        },
        "id": "qCdc9ohdFkks",
        "outputId": "3ea52ec4-c588-4039-bfab-fc0350ed8fc1"
      },
      "source": [
        "a=lr.predict(scaler.fit_transform(df5))\n",
        "a"
      ],
      "execution_count": null,
      "outputs": [
        {
          "output_type": "execute_result",
          "data": {
            "text/plain": [
              "array([0, 0, 0, 0, 0, 0, 0, 0, 0, 0, 0, 0, 0, 0, 0, 0, 0, 0, 1, 0, 0, 0,\n",
              "       0, 0, 0, 0, 0, 0, 0, 0, 0, 0, 0, 0, 0, 0, 0, 0, 0, 0, 0, 0, 0, 0,\n",
              "       0, 0, 0, 0, 0, 0, 0, 0, 0, 0, 1, 0, 0, 0, 0, 0, 0, 0, 0, 0, 0, 0,\n",
              "       0, 0, 0, 0, 0, 0, 0, 0, 0, 0, 0, 0, 0, 0, 0, 0, 0, 0, 0, 0, 0, 0,\n",
              "       0, 0, 0, 0, 0, 0, 0, 0, 0, 0, 0, 0, 0, 0, 0, 0, 0, 0, 0, 0, 0, 0,\n",
              "       0, 0, 0, 0, 0, 0, 0, 0, 0, 0, 0, 0, 0, 0, 0, 0, 0, 0, 0, 0, 0, 0,\n",
              "       0, 0, 0, 0, 0, 0, 0, 0, 0, 0, 0, 0, 0, 0, 0, 0, 0, 0, 0, 0, 0, 0,\n",
              "       0, 0, 0, 0, 0, 0, 0, 0, 0, 0, 0, 0, 0, 0, 0, 0, 0, 0, 0, 0, 0, 0,\n",
              "       0, 0, 0, 0, 0, 0, 0, 0, 0, 0, 0, 0, 0, 0, 0, 0, 0, 1, 0, 0, 0, 0,\n",
              "       1, 0, 0, 0, 0, 0, 1, 0, 0, 0, 0, 0, 0, 0, 0, 0, 0, 0, 0, 0, 0, 0,\n",
              "       0, 0, 0, 0, 0, 0, 0, 0, 1, 0, 0, 0, 0, 0, 0, 0, 0, 0, 0, 0, 0, 0,\n",
              "       0, 0, 0, 0, 0, 0, 0, 0, 0, 0, 0, 0, 0, 0, 0, 0, 0, 1, 0, 0, 0, 0,\n",
              "       0, 0, 0, 0, 0, 0, 0, 0, 0, 0, 0, 1, 1, 0, 0, 0, 1, 0, 0, 0, 0, 0,\n",
              "       0, 0, 0, 1, 0, 0, 0, 0, 0, 0, 0, 0, 0, 0, 0, 1, 0, 0, 0, 0, 0, 0,\n",
              "       0, 0, 0, 0, 0, 0, 0, 0, 0, 0, 1, 1, 0, 0, 1, 0, 0, 1, 0, 0, 0, 1,\n",
              "       0, 0, 0, 1, 0, 0, 0, 1, 0, 1, 0, 0, 0, 0, 0, 0, 1, 0, 0, 0, 1, 1,\n",
              "       0, 0, 0, 0, 0, 0, 0, 1, 0, 1, 1, 0, 0, 0, 0, 1, 1, 0, 0, 0, 0, 1,\n",
              "       0, 0, 0, 0, 0, 1, 1, 0, 0, 0, 1, 0, 0, 0, 0, 1, 1, 0, 1, 1, 0, 1,\n",
              "       0, 0, 0, 0, 1, 0, 1, 1, 1, 1, 1, 1, 0, 0, 1, 1, 0, 0, 1, 1, 1, 0,\n",
              "       1, 0, 1, 0, 0, 1, 1, 0, 1, 1, 1, 1, 1, 0, 1, 0, 1, 1, 0, 1, 0, 1,\n",
              "       0, 0, 0, 1, 1, 0, 1, 1, 1, 1, 1, 1, 1, 0, 1])"
            ]
          },
          "metadata": {
            "tags": []
          },
          "execution_count": 975
        }
      ]
    },
    {
      "cell_type": "markdown",
      "metadata": {
        "id": "-eQmOW2rcHE8"
      },
      "source": [
        "#Prediction on X_test data"
      ]
    },
    {
      "cell_type": "code",
      "metadata": {
        "colab": {
          "base_uri": "https://localhost:8080/"
        },
        "id": "OItrm_JGbBmo",
        "outputId": "1e3b03d6-c5cb-424b-9306-49cce47ac281"
      },
      "source": [
        "Y_pred=lr.predict(X_test)\n",
        "Y_pred"
      ],
      "execution_count": null,
      "outputs": [
        {
          "output_type": "execute_result",
          "data": {
            "text/plain": [
              "array([0, 0, 1, 0, 0, 0, 0, 0, 0, 0, 1, 0, 0, 0, 0, 0, 0, 0, 0, 0, 0, 0,\n",
              "       0, 1, 0, 0, 0, 0, 0, 0, 1, 1, 1, 0, 0, 0, 1, 0, 1, 1, 0, 1, 0, 0,\n",
              "       0, 1, 0, 0, 0, 0, 0, 0, 0, 0, 0, 1, 0, 0, 0, 0, 1, 0, 1, 0, 1, 0,\n",
              "       0, 0, 0, 0, 0, 0, 0, 0, 0, 0, 0, 0, 0, 1, 0, 0, 0, 1, 0, 0, 0, 1,\n",
              "       0, 0, 0, 0, 1, 0, 0, 0, 0, 0, 1, 0, 1, 0, 0, 0, 1, 1, 0, 1, 1, 0,\n",
              "       0, 0, 0, 1, 0, 0, 0, 0, 0, 0, 0, 0, 0, 0, 0, 0, 0, 0, 1, 0, 0, 0,\n",
              "       0, 1, 0, 0, 0, 0, 0, 0, 0, 0, 1, 0, 0, 0, 1, 0, 0, 0, 1, 0, 1, 0,\n",
              "       0, 0])"
            ]
          },
          "metadata": {
            "tags": []
          },
          "execution_count": 976
        }
      ]
    },
    {
      "cell_type": "code",
      "metadata": {
        "id": "AHeYo-76aED1"
      },
      "source": [
        "from sklearn.metrics import confusion_matrix\n",
        "from sklearn.metrics import accuracy_score\n",
        "from sklearn.metrics import classification_report"
      ],
      "execution_count": null,
      "outputs": []
    },
    {
      "cell_type": "code",
      "metadata": {
        "colab": {
          "base_uri": "https://localhost:8080/"
        },
        "id": "JMsrY0Bdasp3",
        "outputId": "1004e3a6-da48-40fc-fef7-b8c9f5b0bb92"
      },
      "source": [
        "from sklearn import metrics\n",
        "results = confusion_matrix(y_test, Y_pred)\n",
        "print ('Confusion Matrix of Logistic Regrression:')\n",
        "print(results)\n",
        "print ('Accuracy Score :',accuracy_score(y_test, Y_pred)*100)\n",
        "print ('Report : ')\n",
        "print (classification_report(y_test, Y_pred))"
      ],
      "execution_count": null,
      "outputs": [
        {
          "output_type": "stream",
          "text": [
            "Confusion Matrix of Logistic Regrression:\n",
            "[[109   8]\n",
            " [ 15  24]]\n",
            "Accuracy Score : 85.25641025641025\n",
            "Report : \n",
            "              precision    recall  f1-score   support\n",
            "\n",
            "           0       0.88      0.93      0.90       117\n",
            "           1       0.75      0.62      0.68        39\n",
            "\n",
            "    accuracy                           0.85       156\n",
            "   macro avg       0.81      0.77      0.79       156\n",
            "weighted avg       0.85      0.85      0.85       156\n",
            "\n"
          ],
          "name": "stdout"
        }
      ]
    },
    {
      "cell_type": "markdown",
      "metadata": {
        "id": "fk2aJq1DcSSe"
      },
      "source": [
        "#Using SVM"
      ]
    },
    {
      "cell_type": "code",
      "metadata": {
        "colab": {
          "base_uri": "https://localhost:8080/"
        },
        "id": "Jq7mIG6Va5xy",
        "outputId": "55a662c4-a7c9-4b02-f0dd-b8914bc9dd87"
      },
      "source": [
        "from sklearn.svm import SVC \n",
        "clf = SVC(random_state=42)\n",
        "\n",
        "fit_svm=clf.fit(X_train, y_train)\n",
        "Y_pred = clf.predict(X_test)\n",
        "\n",
        "clf.score(X_train,y_train)"
      ],
      "execution_count": null,
      "outputs": [
        {
          "output_type": "execute_result",
          "data": {
            "text/plain": [
              "0.8954983922829582"
            ]
          },
          "metadata": {
            "tags": []
          },
          "execution_count": 979
        }
      ]
    },
    {
      "cell_type": "code",
      "metadata": {
        "colab": {
          "base_uri": "https://localhost:8080/"
        },
        "id": "NnzFBN5bp-bg",
        "outputId": "ccae60c7-451d-4fdc-8d37-b8fc2bbe490a"
      },
      "source": [
        "Y_pred"
      ],
      "execution_count": null,
      "outputs": [
        {
          "output_type": "execute_result",
          "data": {
            "text/plain": [
              "array([0, 0, 0, 0, 0, 0, 0, 0, 0, 0, 1, 0, 0, 0, 0, 0, 0, 0, 0, 0, 0, 0,\n",
              "       0, 1, 0, 0, 0, 0, 0, 0, 1, 1, 0, 0, 0, 0, 1, 0, 0, 1, 0, 0, 0, 0,\n",
              "       0, 1, 0, 0, 0, 0, 0, 0, 0, 0, 0, 1, 0, 0, 0, 0, 0, 0, 1, 0, 1, 1,\n",
              "       0, 0, 0, 0, 0, 0, 0, 0, 0, 0, 0, 0, 0, 1, 1, 0, 0, 1, 0, 0, 0, 0,\n",
              "       0, 0, 0, 1, 1, 0, 0, 0, 0, 0, 1, 0, 1, 0, 0, 0, 1, 1, 0, 1, 1, 0,\n",
              "       0, 0, 0, 0, 0, 0, 0, 0, 0, 0, 0, 0, 0, 0, 0, 0, 0, 0, 1, 0, 0, 0,\n",
              "       0, 1, 0, 0, 0, 0, 0, 0, 1, 0, 1, 0, 0, 0, 0, 0, 0, 0, 1, 0, 0, 0,\n",
              "       0, 0])"
            ]
          },
          "metadata": {
            "tags": []
          },
          "execution_count": 980
        }
      ]
    },
    {
      "cell_type": "code",
      "metadata": {
        "colab": {
          "base_uri": "https://localhost:8080/"
        },
        "id": "IfSEpMEZc4FN",
        "outputId": "14387791-ab95-4ead-b58f-b9c495870d96"
      },
      "source": [
        "results = confusion_matrix(y_test, Y_pred)\n",
        "print ('Confusion Matrix SVM:')\n",
        "print(results)\n",
        "print ('Accuracy Score :',accuracy_score(y_test, Y_pred)*100)\n",
        "print ('Report : ')\n",
        "print (classification_report(y_test, Y_pred))"
      ],
      "execution_count": null,
      "outputs": [
        {
          "output_type": "stream",
          "text": [
            "Confusion Matrix SVM:\n",
            "[[111   6]\n",
            " [ 18  21]]\n",
            "Accuracy Score : 84.61538461538461\n",
            "Report : \n",
            "              precision    recall  f1-score   support\n",
            "\n",
            "           0       0.86      0.95      0.90       117\n",
            "           1       0.78      0.54      0.64        39\n",
            "\n",
            "    accuracy                           0.85       156\n",
            "   macro avg       0.82      0.74      0.77       156\n",
            "weighted avg       0.84      0.85      0.84       156\n",
            "\n"
          ],
          "name": "stdout"
        }
      ]
    },
    {
      "cell_type": "markdown",
      "metadata": {
        "id": "SuiiXWdAqyUi"
      },
      "source": [
        "#GNB Classifier"
      ]
    },
    {
      "cell_type": "code",
      "metadata": {
        "colab": {
          "base_uri": "https://localhost:8080/"
        },
        "id": "z5mMgSPio9lx",
        "outputId": "65548d74-5439-459a-c1b6-f6cae205ee8f"
      },
      "source": [
        "from sklearn.naive_bayes import GaussianNB\n",
        "gnb = GaussianNB()\n",
        "gnb.fit(X_train, y_train)\n",
        "\n",
        "Y_pred = gnb.predict(X_test)\n",
        "\n",
        "from sklearn import metrics\n",
        "\n",
        "\n",
        "results = confusion_matrix(y_test, Y_pred)\n",
        "print ('Confusion Matrix of GNB Classifier:')\n",
        "print(results)\n",
        "print ('Accuracy Score :',accuracy_score(y_test, Y_pred)*100)\n",
        "print ('Report : ')\n",
        "print (classification_report(y_test, Y_pred))"
      ],
      "execution_count": null,
      "outputs": [
        {
          "output_type": "stream",
          "text": [
            "Confusion Matrix of GNB Classifier:\n",
            "[[112   5]\n",
            " [ 30   9]]\n",
            "Accuracy Score : 77.56410256410257\n",
            "Report : \n",
            "              precision    recall  f1-score   support\n",
            "\n",
            "           0       0.79      0.96      0.86       117\n",
            "           1       0.64      0.23      0.34        39\n",
            "\n",
            "    accuracy                           0.78       156\n",
            "   macro avg       0.72      0.59      0.60       156\n",
            "weighted avg       0.75      0.78      0.73       156\n",
            "\n"
          ],
          "name": "stdout"
        }
      ]
    },
    {
      "cell_type": "code",
      "metadata": {
        "id": "FRsdRXe0t6PX"
      },
      "source": [
        ""
      ],
      "execution_count": null,
      "outputs": []
    }
  ]
}